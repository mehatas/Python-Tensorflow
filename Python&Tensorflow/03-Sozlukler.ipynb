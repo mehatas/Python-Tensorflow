{
 "cells": [
  {
   "cell_type": "markdown",
   "id": "38fe5c9d",
   "metadata": {},
   "source": [
    "## key-value pairing (anahtar kelime - değer eşlemesi)"
   ]
  },
  {
   "cell_type": "code",
   "execution_count": 2,
   "id": "41261d06",
   "metadata": {},
   "outputs": [],
   "source": [
    "benimYemeklerim=[\"elma\",\"armut\",\"muz\"]"
   ]
  },
  {
   "cell_type": "code",
   "execution_count": 3,
   "id": "fcaa9c06",
   "metadata": {},
   "outputs": [],
   "source": [
    "benimKalorilerim=[100,233,355]"
   ]
  },
  {
   "cell_type": "code",
   "execution_count": 4,
   "id": "c4de4d78",
   "metadata": {},
   "outputs": [],
   "source": [
    "# dictionary"
   ]
  },
  {
   "cell_type": "code",
   "execution_count": 5,
   "id": "4c051fc3",
   "metadata": {},
   "outputs": [],
   "source": [
    "benimSozluk={\"anahtar\":\"deger\"}"
   ]
  },
  {
   "cell_type": "code",
   "execution_count": 6,
   "id": "67179360",
   "metadata": {},
   "outputs": [
    {
     "data": {
      "text/plain": [
       "dict"
      ]
     },
     "execution_count": 6,
     "metadata": {},
     "output_type": "execute_result"
    }
   ],
   "source": [
    "type(benimSozluk)"
   ]
  },
  {
   "cell_type": "code",
   "execution_count": 7,
   "id": "d4ea90da",
   "metadata": {},
   "outputs": [
    {
     "data": {
      "text/plain": [
       "'deger'"
      ]
     },
     "execution_count": 7,
     "metadata": {},
     "output_type": "execute_result"
    }
   ],
   "source": [
    "benimSozluk[\"anahtar\"]"
   ]
  },
  {
   "cell_type": "code",
   "execution_count": 8,
   "id": "7f4cf1a0",
   "metadata": {},
   "outputs": [],
   "source": [
    "yemekKalori={\"elma\":100,\"armut\":233,\"muz\":355}"
   ]
  },
  {
   "cell_type": "code",
   "execution_count": 11,
   "id": "84761b8e",
   "metadata": {},
   "outputs": [
    {
     "data": {
      "text/plain": [
       "100"
      ]
     },
     "execution_count": 11,
     "metadata": {},
     "output_type": "execute_result"
    }
   ],
   "source": [
    "yemekKalori[\"elma\"]"
   ]
  },
  {
   "cell_type": "code",
   "execution_count": 12,
   "id": "b3570028",
   "metadata": {},
   "outputs": [
    {
     "data": {
      "text/plain": [
       "{'elma': 100, 'armut': 233, 'muz': 355}"
      ]
     },
     "execution_count": 12,
     "metadata": {},
     "output_type": "execute_result"
    }
   ],
   "source": [
    "yemekKalori"
   ]
  },
  {
   "cell_type": "code",
   "execution_count": 13,
   "id": "37d17be2",
   "metadata": {},
   "outputs": [],
   "source": [
    "yemekKalori[\"elma\"]=120"
   ]
  },
  {
   "cell_type": "code",
   "execution_count": 14,
   "id": "853037b2",
   "metadata": {},
   "outputs": [
    {
     "data": {
      "text/plain": [
       "{'elma': 120, 'armut': 233, 'muz': 355}"
      ]
     },
     "execution_count": 14,
     "metadata": {},
     "output_type": "execute_result"
    }
   ],
   "source": [
    "yemekKalori"
   ]
  },
  {
   "cell_type": "code",
   "execution_count": 18,
   "id": "92818963",
   "metadata": {},
   "outputs": [],
   "source": [
    "yeniSozluk={\"anahtar1\":120,\"anahtar2\":[12,34,45.5,\"me\"],\"anahtar3\":{\"anahtar4\":4}}"
   ]
  },
  {
   "cell_type": "code",
   "execution_count": 19,
   "id": "e5899898",
   "metadata": {},
   "outputs": [
    {
     "data": {
      "text/plain": [
       "dict_keys(['anahtar1', 'anahtar2', 'anahtar3'])"
      ]
     },
     "execution_count": 19,
     "metadata": {},
     "output_type": "execute_result"
    }
   ],
   "source": [
    "yeniSozluk.keys()"
   ]
  },
  {
   "cell_type": "code",
   "execution_count": 20,
   "id": "076be2cb",
   "metadata": {},
   "outputs": [
    {
     "data": {
      "text/plain": [
       "dict_values([120, [12, 34, 45.5, 'me'], {'anahtar4': 4}])"
      ]
     },
     "execution_count": 20,
     "metadata": {},
     "output_type": "execute_result"
    }
   ],
   "source": [
    "yeniSozluk.values()"
   ]
  },
  {
   "cell_type": "code",
   "execution_count": 29,
   "id": "63221f24",
   "metadata": {},
   "outputs": [],
   "source": [
    "degiskenStr=yeniSozluk[\"anahtar2\"][-1]"
   ]
  },
  {
   "cell_type": "code",
   "execution_count": 30,
   "id": "feb61e68",
   "metadata": {},
   "outputs": [
    {
     "data": {
      "text/plain": [
       "'me'"
      ]
     },
     "execution_count": 30,
     "metadata": {},
     "output_type": "execute_result"
    }
   ],
   "source": [
    "degiskenStr"
   ]
  },
  {
   "cell_type": "code",
   "execution_count": 27,
   "id": "0f937eb9",
   "metadata": {},
   "outputs": [],
   "source": [
    "degiskenInt=yeniSozluk[\"anahtar3\"][\"anahtar4\"]"
   ]
  },
  {
   "cell_type": "code",
   "execution_count": 28,
   "id": "fd350ec6",
   "metadata": {},
   "outputs": [
    {
     "data": {
      "text/plain": [
       "4"
      ]
     },
     "execution_count": 28,
     "metadata": {},
     "output_type": "execute_result"
    }
   ],
   "source": [
    "degiskenInt"
   ]
  },
  {
   "cell_type": "code",
   "execution_count": null,
   "id": "91f00cd6",
   "metadata": {},
   "outputs": [],
   "source": []
  }
 ],
 "metadata": {
  "kernelspec": {
   "display_name": "Python 3 (ipykernel)",
   "language": "python",
   "name": "python3"
  },
  "language_info": {
   "codemirror_mode": {
    "name": "ipython",
    "version": 3
   },
   "file_extension": ".py",
   "mimetype": "text/x-python",
   "name": "python",
   "nbconvert_exporter": "python",
   "pygments_lexer": "ipython3",
   "version": "3.11.4"
  }
 },
 "nbformat": 4,
 "nbformat_minor": 5
}
