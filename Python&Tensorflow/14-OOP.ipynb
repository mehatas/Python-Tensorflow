{
 "cells": [
  {
   "cell_type": "code",
   "execution_count": 1,
   "id": "160d7b79",
   "metadata": {},
   "outputs": [],
   "source": [
    "benimListem=list()"
   ]
  },
  {
   "cell_type": "code",
   "execution_count": 2,
   "id": "1881c03c",
   "metadata": {},
   "outputs": [
    {
     "data": {
      "text/plain": [
       "list"
      ]
     },
     "execution_count": 2,
     "metadata": {},
     "output_type": "execute_result"
    }
   ],
   "source": [
    "type(benimListem)"
   ]
  },
  {
   "cell_type": "markdown",
   "id": "aa1dc4a0",
   "metadata": {},
   "source": [
    "## instance & attribute"
   ]
  },
  {
   "cell_type": "code",
   "execution_count": 16,
   "id": "49bfd96e",
   "metadata": {},
   "outputs": [],
   "source": [
    "class SuperKahraman():\n",
    "    def __init__(self,isim,yas,meslek):\n",
    "        print(\"init cagirildi\")\n",
    "        self.isim=isim\n",
    "        self.yas=yas\n",
    "        self.meslek=meslek"
   ]
  },
  {
   "cell_type": "code",
   "execution_count": 17,
   "id": "fb839a85",
   "metadata": {},
   "outputs": [
    {
     "name": "stdout",
     "output_type": "stream",
     "text": [
      "init cagirildi\n"
     ]
    }
   ],
   "source": [
    "superman=SuperKahraman(\"superman\",19,\"gazteci\")"
   ]
  },
  {
   "cell_type": "code",
   "execution_count": 18,
   "id": "9758c418",
   "metadata": {},
   "outputs": [
    {
     "data": {
      "text/plain": [
       "'superman'"
      ]
     },
     "execution_count": 18,
     "metadata": {},
     "output_type": "execute_result"
    }
   ],
   "source": [
    "superman.isim"
   ]
  },
  {
   "cell_type": "code",
   "execution_count": 19,
   "id": "9715448b",
   "metadata": {},
   "outputs": [
    {
     "data": {
      "text/plain": [
       "'gazteci'"
      ]
     },
     "execution_count": 19,
     "metadata": {},
     "output_type": "execute_result"
    }
   ],
   "source": [
    "superman.meslek"
   ]
  },
  {
   "cell_type": "code",
   "execution_count": 20,
   "id": "09283c57",
   "metadata": {},
   "outputs": [],
   "source": [
    "superman.isim=\"ali\""
   ]
  },
  {
   "cell_type": "code",
   "execution_count": 21,
   "id": "4a25fa52",
   "metadata": {},
   "outputs": [
    {
     "data": {
      "text/plain": [
       "'ali'"
      ]
     },
     "execution_count": 21,
     "metadata": {},
     "output_type": "execute_result"
    }
   ],
   "source": [
    "superman.isim"
   ]
  },
  {
   "cell_type": "code",
   "execution_count": 41,
   "id": "106d836e",
   "metadata": {},
   "outputs": [],
   "source": [
    "class SuperKahraman():\n",
    "    \n",
    "    ozelGuc=\"Gorunmez\"\n",
    "    \n",
    "    def __init__(self,isim,yas,meslek):\n",
    "        print(\"init cagirildi\")\n",
    "        self.isim=isim\n",
    "        self.yas=yas\n",
    "        self.meslek=meslek\n",
    "        \n",
    "    def ornekMethod(self):\n",
    "        print(f\"ozel metot ve meslegim: {self.meslek}\")"
   ]
  },
  {
   "cell_type": "code",
   "execution_count": 45,
   "id": "45ccb793",
   "metadata": {},
   "outputs": [
    {
     "name": "stdout",
     "output_type": "stream",
     "text": [
      "init cagirildi\n"
     ]
    }
   ],
   "source": [
    "superman=SuperKahraman(\"superman\",19,\"gazeteci\")"
   ]
  },
  {
   "cell_type": "code",
   "execution_count": 46,
   "id": "bed30289",
   "metadata": {},
   "outputs": [
    {
     "data": {
      "text/plain": [
       "'Gorunmez'"
      ]
     },
     "execution_count": 46,
     "metadata": {},
     "output_type": "execute_result"
    }
   ],
   "source": [
    "superman.ozelGuc"
   ]
  },
  {
   "cell_type": "code",
   "execution_count": 47,
   "id": "ede9900e",
   "metadata": {},
   "outputs": [
    {
     "name": "stdout",
     "output_type": "stream",
     "text": [
      "ozel metot ve meslegim: gazeteci\n"
     ]
    }
   ],
   "source": [
    "superman.ornekMethod()"
   ]
  },
  {
   "cell_type": "code",
   "execution_count": 90,
   "id": "b5e9d7ab",
   "metadata": {},
   "outputs": [],
   "source": [
    "class Kopek():\n",
    "    yilcarpani=7\n",
    "    def __init__(self,yas=5):\n",
    "        self.yas=yas\n",
    "        self.insanYasiDeg=yas*7\n",
    "    def insanYasi(self):\n",
    "        return self.yas*Kopek.yilcarpani"
   ]
  },
  {
   "cell_type": "code",
   "execution_count": 91,
   "id": "a8bc2c16",
   "metadata": {},
   "outputs": [],
   "source": [
    "benimKopek=Kopek(6)"
   ]
  },
  {
   "cell_type": "code",
   "execution_count": 92,
   "id": "61469b7b",
   "metadata": {},
   "outputs": [
    {
     "data": {
      "text/plain": [
       "6"
      ]
     },
     "execution_count": 92,
     "metadata": {},
     "output_type": "execute_result"
    }
   ],
   "source": [
    "benimKopek.yas"
   ]
  },
  {
   "cell_type": "code",
   "execution_count": 93,
   "id": "4f6907f1",
   "metadata": {},
   "outputs": [
    {
     "data": {
      "text/plain": [
       "42"
      ]
     },
     "execution_count": 93,
     "metadata": {},
     "output_type": "execute_result"
    }
   ],
   "source": [
    "benimKopek.insanYasi()"
   ]
  },
  {
   "cell_type": "code",
   "execution_count": 94,
   "id": "fb20571f",
   "metadata": {},
   "outputs": [
    {
     "data": {
      "text/plain": [
       "42"
      ]
     },
     "execution_count": 94,
     "metadata": {},
     "output_type": "execute_result"
    }
   ],
   "source": [
    "benimKopek.insanYasiDeg"
   ]
  },
  {
   "cell_type": "markdown",
   "id": "10e27fd0",
   "metadata": {},
   "source": [
    "## Inheritance"
   ]
  },
  {
   "cell_type": "code",
   "execution_count": 95,
   "id": "6773d8c6",
   "metadata": {},
   "outputs": [],
   "source": [
    "class Hayvan():\n",
    "    def __init__(self):\n",
    "        print(\"hs init cagrildi\")\n",
    "    def method1(self):\n",
    "        print(\"hs method1\")\n",
    "    def method2(self):\n",
    "        print(\"hs method2\")"
   ]
  },
  {
   "cell_type": "code",
   "execution_count": 96,
   "id": "af37b7a5",
   "metadata": {},
   "outputs": [
    {
     "name": "stdout",
     "output_type": "stream",
     "text": [
      "hs init cagrildi\n"
     ]
    }
   ],
   "source": [
    "benimHayvan=Hayvan()"
   ]
  },
  {
   "cell_type": "code",
   "execution_count": 98,
   "id": "ce02e6f5",
   "metadata": {},
   "outputs": [
    {
     "name": "stdout",
     "output_type": "stream",
     "text": [
      "hs method1\n"
     ]
    }
   ],
   "source": [
    "benimHayvan.method1()"
   ]
  },
  {
   "cell_type": "code",
   "execution_count": 99,
   "id": "310ed493",
   "metadata": {},
   "outputs": [
    {
     "name": "stdout",
     "output_type": "stream",
     "text": [
      "hs method2\n"
     ]
    }
   ],
   "source": [
    "benimHayvan.method2()"
   ]
  },
  {
   "cell_type": "code",
   "execution_count": 111,
   "id": "4dd3b3e5",
   "metadata": {},
   "outputs": [],
   "source": [
    "class Kedi(Hayvan):\n",
    "    def __init__(self):\n",
    "        Hayvan.__init__(self)\n",
    "        print(\"kedi init\")\n",
    "    def miyayla(self):\n",
    "        print(\"miyav\")\n",
    "    #override\n",
    "    def method1(self):\n",
    "        print(\"kedinin method1\")"
   ]
  },
  {
   "cell_type": "code",
   "execution_count": 113,
   "id": "56599cb0",
   "metadata": {},
   "outputs": [
    {
     "name": "stdout",
     "output_type": "stream",
     "text": [
      "hs init cagrildi\n",
      "kedi init\n"
     ]
    }
   ],
   "source": [
    "benimKedi=Kedi()"
   ]
  },
  {
   "cell_type": "code",
   "execution_count": 107,
   "id": "de27d31e",
   "metadata": {},
   "outputs": [
    {
     "name": "stdout",
     "output_type": "stream",
     "text": [
      "hs method1\n"
     ]
    }
   ],
   "source": [
    "## override yapılmadan once cagrıldı\n",
    "benimKedi.method1()"
   ]
  },
  {
   "cell_type": "code",
   "execution_count": 108,
   "id": "572f4b8e",
   "metadata": {},
   "outputs": [
    {
     "name": "stdout",
     "output_type": "stream",
     "text": [
      "miyav\n"
     ]
    }
   ],
   "source": [
    "benimKedi.miyayla()"
   ]
  },
  {
   "cell_type": "code",
   "execution_count": 114,
   "id": "31afc4b8",
   "metadata": {},
   "outputs": [
    {
     "name": "stdout",
     "output_type": "stream",
     "text": [
      "kedinin method1\n"
     ]
    }
   ],
   "source": [
    "## override yapıldıktan sonra cagrıldı\n",
    "benimKedi.method1()"
   ]
  },
  {
   "cell_type": "code",
   "execution_count": 115,
   "id": "300521cd",
   "metadata": {},
   "outputs": [
    {
     "name": "stdout",
     "output_type": "stream",
     "text": [
      "hs init cagrildi\n"
     ]
    }
   ],
   "source": [
    "digerHayvan=Hayvan()"
   ]
  },
  {
   "cell_type": "code",
   "execution_count": 116,
   "id": "2752249e",
   "metadata": {},
   "outputs": [
    {
     "name": "stdout",
     "output_type": "stream",
     "text": [
      "hs method1\n"
     ]
    }
   ],
   "source": [
    "digerHayvan.method1()"
   ]
  },
  {
   "cell_type": "markdown",
   "id": "8f4f6027",
   "metadata": {},
   "source": [
    "## Polymorphism"
   ]
  },
  {
   "cell_type": "code",
   "execution_count": 12,
   "id": "100f065b",
   "metadata": {},
   "outputs": [],
   "source": [
    "class Elma():\n",
    "    def __init__(self,isim):\n",
    "        self.isim=isim\n",
    "        \n",
    "    def bilgiVer(self):\n",
    "        return self.isim + \" 100 kaloridir\""
   ]
  },
  {
   "cell_type": "code",
   "execution_count": 13,
   "id": "b7bf8f60",
   "metadata": {},
   "outputs": [],
   "source": [
    "class Muz():\n",
    "    def __init__(self,isim):\n",
    "        self.isim=isim\n",
    "        \n",
    "    def bilgiVer(self):\n",
    "        return self.isim + \" 150 kaloridir\""
   ]
  },
  {
   "cell_type": "code",
   "execution_count": 14,
   "id": "9003527f",
   "metadata": {},
   "outputs": [],
   "source": [
    "elma = Elma(\"elma\")"
   ]
  },
  {
   "cell_type": "code",
   "execution_count": 15,
   "id": "f96ffe8d",
   "metadata": {},
   "outputs": [
    {
     "data": {
      "text/plain": [
       "'elma 100 kaloridir'"
      ]
     },
     "execution_count": 15,
     "metadata": {},
     "output_type": "execute_result"
    }
   ],
   "source": [
    "elma.bilgiVer()"
   ]
  },
  {
   "cell_type": "code",
   "execution_count": 16,
   "id": "4f8e1d26",
   "metadata": {},
   "outputs": [],
   "source": [
    "muz = Muz (\"muz\")"
   ]
  },
  {
   "cell_type": "code",
   "execution_count": 17,
   "id": "b70c349b",
   "metadata": {},
   "outputs": [
    {
     "data": {
      "text/plain": [
       "'muz 150 kaloridir'"
      ]
     },
     "execution_count": 17,
     "metadata": {},
     "output_type": "execute_result"
    }
   ],
   "source": [
    "muz.bilgiVer()"
   ]
  },
  {
   "cell_type": "code",
   "execution_count": 18,
   "id": "0d0df207",
   "metadata": {},
   "outputs": [],
   "source": [
    "meyveListesi=[elma,muz]"
   ]
  },
  {
   "cell_type": "code",
   "execution_count": 19,
   "id": "49b55d2b",
   "metadata": {},
   "outputs": [
    {
     "name": "stdout",
     "output_type": "stream",
     "text": [
      "elma 100 kaloridir\n",
      "muz 150 kaloridir\n"
     ]
    }
   ],
   "source": [
    "for meyve in meyveListesi:\n",
    "    print(meyve.bilgiVer())"
   ]
  },
  {
   "cell_type": "code",
   "execution_count": 20,
   "id": "eb4ffc19",
   "metadata": {},
   "outputs": [],
   "source": [
    "def bilgiAl(az):\n",
    "    print(az.bilgiVer())"
   ]
  },
  {
   "cell_type": "code",
   "execution_count": 21,
   "id": "b8258521",
   "metadata": {},
   "outputs": [
    {
     "name": "stdout",
     "output_type": "stream",
     "text": [
      "muz 150 kaloridir\n"
     ]
    }
   ],
   "source": [
    "bilgiAl(muz)"
   ]
  },
  {
   "cell_type": "code",
   "execution_count": 22,
   "id": "39135c21",
   "metadata": {},
   "outputs": [
    {
     "ename": "NameError",
     "evalue": "name 'portakal' is not defined",
     "output_type": "error",
     "traceback": [
      "\u001b[1;31m---------------------------------------------------------------------------\u001b[0m",
      "\u001b[1;31mNameError\u001b[0m                                 Traceback (most recent call last)",
      "Cell \u001b[1;32mIn[22], line 1\u001b[0m\n\u001b[1;32m----> 1\u001b[0m bilgiAl(portakal)\n",
      "\u001b[1;31mNameError\u001b[0m: name 'portakal' is not defined"
     ]
    }
   ],
   "source": [
    "bilgiAl(portakal)"
   ]
  },
  {
   "cell_type": "code",
   "execution_count": 44,
   "id": "7dd7933f",
   "metadata": {},
   "outputs": [],
   "source": [
    "##\n",
    "## Özel methodlar\n",
    "##\n",
    "\n",
    "class Meyveler():\n",
    "    def __init__(self,isim,kalori):\n",
    "        self.isim=isim\n",
    "        self.kalori=kalori\n",
    "    ## yazdırma\n",
    "    def __str__(self):\n",
    "        return f\"{self.isim} şu kadar kaloridir :{self.kalori}\"\n",
    "    def __len__(self):\n",
    "        return self.kalori"
   ]
  },
  {
   "cell_type": "code",
   "execution_count": 45,
   "id": "39afeefd",
   "metadata": {},
   "outputs": [],
   "source": [
    "muz = Meyveler(\"muz\",230)"
   ]
  },
  {
   "cell_type": "code",
   "execution_count": 46,
   "id": "d7e3004b",
   "metadata": {},
   "outputs": [
    {
     "data": {
      "text/plain": [
       "230"
      ]
     },
     "execution_count": 46,
     "metadata": {},
     "output_type": "execute_result"
    }
   ],
   "source": [
    "muz.kalori"
   ]
  },
  {
   "cell_type": "code",
   "execution_count": 32,
   "id": "b742b5bc",
   "metadata": {},
   "outputs": [
    {
     "name": "stdout",
     "output_type": "stream",
     "text": [
      "<__main__.Meyveler object at 0x000002B348456250>\n"
     ]
    }
   ],
   "source": [
    "print(muz)"
   ]
  },
  {
   "cell_type": "code",
   "execution_count": 39,
   "id": "2335d60b",
   "metadata": {},
   "outputs": [
    {
     "name": "stdout",
     "output_type": "stream",
     "text": [
      "muz şu kadar kaloridir :230\n"
     ]
    }
   ],
   "source": [
    "## stryi ekledikten sonra\n",
    "print(muz)"
   ]
  },
  {
   "cell_type": "code",
   "execution_count": 40,
   "id": "37658290",
   "metadata": {},
   "outputs": [
    {
     "ename": "TypeError",
     "evalue": "object of type 'Meyveler' has no len()",
     "output_type": "error",
     "traceback": [
      "\u001b[1;31m---------------------------------------------------------------------------\u001b[0m",
      "\u001b[1;31mTypeError\u001b[0m                                 Traceback (most recent call last)",
      "Cell \u001b[1;32mIn[40], line 1\u001b[0m\n\u001b[1;32m----> 1\u001b[0m \u001b[38;5;28mlen\u001b[39m(muz)\n",
      "\u001b[1;31mTypeError\u001b[0m: object of type 'Meyveler' has no len()"
     ]
    }
   ],
   "source": [
    "len(muz)"
   ]
  },
  {
   "cell_type": "code",
   "execution_count": 43,
   "id": "f604c257",
   "metadata": {},
   "outputs": [
    {
     "data": {
      "text/plain": [
       "230"
      ]
     },
     "execution_count": 43,
     "metadata": {},
     "output_type": "execute_result"
    }
   ],
   "source": [
    "len(muz)"
   ]
  },
  {
   "cell_type": "markdown",
   "id": "18e4432d",
   "metadata": {},
   "source": [
    "# try-except-else-finally"
   ]
  },
  {
   "cell_type": "code",
   "execution_count": 1,
   "id": "ce322c96",
   "metadata": {},
   "outputs": [],
   "source": [
    "def toplam(num1,num2):\n",
    "    return num1+num2"
   ]
  },
  {
   "cell_type": "code",
   "execution_count": 7,
   "id": "0be61990",
   "metadata": {},
   "outputs": [
    {
     "name": "stdout",
     "output_type": "stream",
     "text": [
      "ilk numara: 49\n",
      "ikinci numara: 59\n"
     ]
    },
    {
     "data": {
      "text/plain": [
       "108"
      ]
     },
     "execution_count": 7,
     "metadata": {},
     "output_type": "execute_result"
    }
   ],
   "source": [
    "x = int(input(\"ilk numara: \"))\n",
    "y = int(input(\"ikinci numara: \"))\n",
    "toplam(x,y)\n"
   ]
  },
  {
   "cell_type": "code",
   "execution_count": 9,
   "id": "14fe212c",
   "metadata": {},
   "outputs": [
    {
     "name": "stdout",
     "output_type": "stream",
     "text": [
      "numaranızı giriniz: jhj\n",
      "lutfen numara giriniz\n",
      "finally cagrildi\n",
      "numaranızı giriniz: mkllllllk\n",
      "lutfen numara giriniz\n",
      "finally cagrildi\n",
      "numaranızı giriniz: 988\n",
      "tşk ederim\n",
      "finally cagrildi\n"
     ]
    }
   ],
   "source": [
    "while True:\n",
    "    try:\n",
    "        benimInt = int(input(\"numaranızı giriniz: \"))\n",
    "    except:\n",
    "        print(\"lutfen numara giriniz\")\n",
    "        continue\n",
    "    else:\n",
    "        print(\"tşk ederim\")\n",
    "        break\n",
    "    finally:\n",
    "        print(\"finally cagrildi\")"
   ]
  },
  {
   "cell_type": "code",
   "execution_count": null,
   "id": "d5caa03c",
   "metadata": {},
   "outputs": [],
   "source": []
  }
 ],
 "metadata": {
  "kernelspec": {
   "display_name": "Python 3 (ipykernel)",
   "language": "python",
   "name": "python3"
  },
  "language_info": {
   "codemirror_mode": {
    "name": "ipython",
    "version": 3
   },
   "file_extension": ".py",
   "mimetype": "text/x-python",
   "name": "python",
   "nbconvert_exporter": "python",
   "pygments_lexer": "ipython3",
   "version": "3.11.4"
  }
 },
 "nbformat": 4,
 "nbformat_minor": 5
}
