{
 "cells": [
  {
   "cell_type": "markdown",
   "id": "62638773",
   "metadata": {},
   "source": [
    "## scope"
   ]
  },
  {
   "cell_type": "code",
   "execution_count": 4,
   "id": "abd2b2cc",
   "metadata": {},
   "outputs": [],
   "source": [
    "numara = 20 \n",
    "\n",
    "def carpma(rakam):\n",
    "    numara=10\n",
    "    return numara*rakam"
   ]
  },
  {
   "cell_type": "code",
   "execution_count": 7,
   "id": "8d1c1bc5",
   "metadata": {},
   "outputs": [
    {
     "data": {
      "text/plain": [
       "50"
      ]
     },
     "execution_count": 7,
     "metadata": {},
     "output_type": "execute_result"
    }
   ],
   "source": [
    "carpma(5)"
   ]
  },
  {
   "cell_type": "code",
   "execution_count": 8,
   "id": "96f89dc7",
   "metadata": {},
   "outputs": [
    {
     "name": "stdout",
     "output_type": "stream",
     "text": [
      "20\n"
     ]
    }
   ],
   "source": [
    "print(numara)"
   ]
  },
  {
   "cell_type": "markdown",
   "id": "6da0a777",
   "metadata": {},
   "source": [
    "## local, enclosing, global, built-in"
   ]
  },
  {
   "cell_type": "code",
   "execution_count": 18,
   "id": "bb236b8c",
   "metadata": {},
   "outputs": [],
   "source": [
    "benimAdim=\"meh\"\n",
    "#global\n",
    "def fonk():\n",
    "    benimAdim=\"mah\"\n",
    "    #enclosing\n",
    "    def icfonk():\n",
    "        benimAdim=\"ay\"\n",
    "        #local\n",
    "        print(benimAdim)\n",
    "    icfonk()    "
   ]
  },
  {
   "cell_type": "code",
   "execution_count": 19,
   "id": "e2c1009f",
   "metadata": {},
   "outputs": [
    {
     "name": "stdout",
     "output_type": "stream",
     "text": [
      "ay\n"
     ]
    }
   ],
   "source": [
    "fonk()"
   ]
  },
  {
   "cell_type": "code",
   "execution_count": 20,
   "id": "e4099216",
   "metadata": {},
   "outputs": [
    {
     "data": {
      "text/plain": [
       "'meh'"
      ]
     },
     "execution_count": 20,
     "metadata": {},
     "output_type": "execute_result"
    }
   ],
   "source": [
    "benimAdim"
   ]
  },
  {
   "cell_type": "code",
   "execution_count": 21,
   "id": "975b4d2c",
   "metadata": {},
   "outputs": [],
   "source": [
    "y = 10 \n",
    "\n",
    "def yeniFonk(y):\n",
    "    print(y)\n",
    "    y=5\n",
    "    print(y)\n",
    "    return(y)"
   ]
  },
  {
   "cell_type": "code",
   "execution_count": 22,
   "id": "17b88e45",
   "metadata": {},
   "outputs": [
    {
     "name": "stdout",
     "output_type": "stream",
     "text": [
      "100\n",
      "5\n"
     ]
    },
    {
     "data": {
      "text/plain": [
       "5"
      ]
     },
     "execution_count": 22,
     "metadata": {},
     "output_type": "execute_result"
    }
   ],
   "source": [
    "yeniFonk(100)"
   ]
  },
  {
   "cell_type": "code",
   "execution_count": 23,
   "id": "1db74b9d",
   "metadata": {},
   "outputs": [
    {
     "data": {
      "text/plain": [
       "10"
      ]
     },
     "execution_count": 23,
     "metadata": {},
     "output_type": "execute_result"
    }
   ],
   "source": [
    "y"
   ]
  },
  {
   "cell_type": "code",
   "execution_count": 25,
   "id": "5c911002",
   "metadata": {},
   "outputs": [],
   "source": [
    "y = 10 \n",
    "\n",
    "def yeniFonk1():\n",
    "    global y\n",
    "    y=5\n",
    "    print(y)"
   ]
  },
  {
   "cell_type": "code",
   "execution_count": 26,
   "id": "45114ac8",
   "metadata": {},
   "outputs": [
    {
     "name": "stdout",
     "output_type": "stream",
     "text": [
      "5\n"
     ]
    }
   ],
   "source": [
    "yeniFonk1()"
   ]
  },
  {
   "cell_type": "code",
   "execution_count": 27,
   "id": "dc4d01e5",
   "metadata": {},
   "outputs": [
    {
     "data": {
      "text/plain": [
       "5"
      ]
     },
     "execution_count": 27,
     "metadata": {},
     "output_type": "execute_result"
    }
   ],
   "source": [
    "y"
   ]
  },
  {
   "cell_type": "code",
   "execution_count": null,
   "id": "42ad0f42",
   "metadata": {},
   "outputs": [],
   "source": []
  }
 ],
 "metadata": {
  "kernelspec": {
   "display_name": "Python 3 (ipykernel)",
   "language": "python",
   "name": "python3"
  },
  "language_info": {
   "codemirror_mode": {
    "name": "ipython",
    "version": 3
   },
   "file_extension": ".py",
   "mimetype": "text/x-python",
   "name": "python",
   "nbconvert_exporter": "python",
   "pygments_lexer": "ipython3",
   "version": "3.11.4"
  }
 },
 "nbformat": 4,
 "nbformat_minor": 5
}
