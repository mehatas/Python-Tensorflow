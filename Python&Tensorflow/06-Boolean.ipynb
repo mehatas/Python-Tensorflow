{
 "cells": [
  {
   "cell_type": "code",
   "execution_count": 1,
   "id": "2800b1e9",
   "metadata": {},
   "outputs": [],
   "source": [
    "benimBool= True"
   ]
  },
  {
   "cell_type": "code",
   "execution_count": 2,
   "id": "e3fb2d9d",
   "metadata": {},
   "outputs": [
    {
     "data": {
      "text/plain": [
       "True"
      ]
     },
     "execution_count": 2,
     "metadata": {},
     "output_type": "execute_result"
    }
   ],
   "source": [
    "benimBool"
   ]
  },
  {
   "cell_type": "code",
   "execution_count": 3,
   "id": "ce7d3fa6",
   "metadata": {},
   "outputs": [
    {
     "data": {
      "text/plain": [
       "bool"
      ]
     },
     "execution_count": 3,
     "metadata": {},
     "output_type": "execute_result"
    }
   ],
   "source": [
    "type(benimBool)"
   ]
  },
  {
   "cell_type": "code",
   "execution_count": 7,
   "id": "7284a2fb",
   "metadata": {},
   "outputs": [],
   "source": [
    "benimBool=False"
   ]
  },
  {
   "cell_type": "code",
   "execution_count": 8,
   "id": "7dc4ff82",
   "metadata": {},
   "outputs": [
    {
     "data": {
      "text/plain": [
       "False"
      ]
     },
     "execution_count": 8,
     "metadata": {},
     "output_type": "execute_result"
    }
   ],
   "source": [
    "benimBool"
   ]
  },
  {
   "cell_type": "code",
   "execution_count": 9,
   "id": "8f023929",
   "metadata": {},
   "outputs": [],
   "source": [
    "benimBool=0"
   ]
  },
  {
   "cell_type": "code",
   "execution_count": 10,
   "id": "0cb97df5",
   "metadata": {},
   "outputs": [
    {
     "data": {
      "text/plain": [
       "0"
      ]
     },
     "execution_count": 10,
     "metadata": {},
     "output_type": "execute_result"
    }
   ],
   "source": [
    "benimBool"
   ]
  },
  {
   "cell_type": "code",
   "execution_count": 11,
   "id": "c93766a1",
   "metadata": {},
   "outputs": [
    {
     "data": {
      "text/plain": [
       "int"
      ]
     },
     "execution_count": 11,
     "metadata": {},
     "output_type": "execute_result"
    }
   ],
   "source": [
    "type(benimBool)"
   ]
  },
  {
   "cell_type": "code",
   "execution_count": 12,
   "id": "e2711343",
   "metadata": {},
   "outputs": [],
   "source": [
    "benimBool=True"
   ]
  },
  {
   "cell_type": "code",
   "execution_count": 13,
   "id": "e24abc42",
   "metadata": {},
   "outputs": [
    {
     "data": {
      "text/plain": [
       "True"
      ]
     },
     "execution_count": 13,
     "metadata": {},
     "output_type": "execute_result"
    }
   ],
   "source": [
    "benimBool"
   ]
  },
  {
   "cell_type": "code",
   "execution_count": 14,
   "id": "164926ed",
   "metadata": {},
   "outputs": [
    {
     "data": {
      "text/plain": [
       "True"
      ]
     },
     "execution_count": 14,
     "metadata": {},
     "output_type": "execute_result"
    }
   ],
   "source": [
    "10<19"
   ]
  },
  {
   "cell_type": "code",
   "execution_count": 15,
   "id": "58f670c7",
   "metadata": {},
   "outputs": [],
   "source": [
    "listem = [10,20,30,40,50,60]"
   ]
  },
  {
   "cell_type": "code",
   "execution_count": 16,
   "id": "487c5c43",
   "metadata": {},
   "outputs": [
    {
     "data": {
      "text/plain": [
       "<function len(obj, /)>"
      ]
     },
     "execution_count": 16,
     "metadata": {},
     "output_type": "execute_result"
    }
   ],
   "source": [
    "len"
   ]
  },
  {
   "cell_type": "code",
   "execution_count": 17,
   "id": "5dc6becc",
   "metadata": {},
   "outputs": [
    {
     "data": {
      "text/plain": [
       "6"
      ]
     },
     "execution_count": 17,
     "metadata": {},
     "output_type": "execute_result"
    }
   ],
   "source": [
    "len(listem)"
   ]
  },
  {
   "cell_type": "code",
   "execution_count": 18,
   "id": "a0457111",
   "metadata": {},
   "outputs": [
    {
     "data": {
      "text/plain": [
       "<function sum(iterable, /, start=0)>"
      ]
     },
     "execution_count": 18,
     "metadata": {},
     "output_type": "execute_result"
    }
   ],
   "source": [
    "sum"
   ]
  },
  {
   "cell_type": "code",
   "execution_count": 19,
   "id": "d18813ce",
   "metadata": {},
   "outputs": [
    {
     "data": {
      "text/plain": [
       "210"
      ]
     },
     "execution_count": 19,
     "metadata": {},
     "output_type": "execute_result"
    }
   ],
   "source": [
    "sum(listem)"
   ]
  },
  {
   "cell_type": "code",
   "execution_count": 20,
   "id": "f8b1b666",
   "metadata": {},
   "outputs": [],
   "source": [
    "ort=sum(listem)/len(listem)"
   ]
  },
  {
   "cell_type": "code",
   "execution_count": 21,
   "id": "7592b42f",
   "metadata": {},
   "outputs": [
    {
     "data": {
      "text/plain": [
       "35.0"
      ]
     },
     "execution_count": 21,
     "metadata": {},
     "output_type": "execute_result"
    }
   ],
   "source": [
    "ort"
   ]
  },
  {
   "cell_type": "code",
   "execution_count": 22,
   "id": "e340efac",
   "metadata": {},
   "outputs": [
    {
     "data": {
      "text/plain": [
       "False"
      ]
     },
     "execution_count": 22,
     "metadata": {},
     "output_type": "execute_result"
    }
   ],
   "source": [
    "listem[2]>ort"
   ]
  },
  {
   "cell_type": "code",
   "execution_count": 24,
   "id": "716e5a8c",
   "metadata": {},
   "outputs": [
    {
     "name": "stdout",
     "output_type": "stream",
     "text": [
      "maas giriniz: 40\n"
     ]
    }
   ],
   "source": [
    "kullaniciMaas=input(\"maas giriniz: \")\n"
   ]
  },
  {
   "cell_type": "code",
   "execution_count": 28,
   "id": "622e718f",
   "metadata": {},
   "outputs": [
    {
     "data": {
      "text/plain": [
       "str"
      ]
     },
     "execution_count": 28,
     "metadata": {},
     "output_type": "execute_result"
    }
   ],
   "source": [
    "type(kullaniciMaas)"
   ]
  },
  {
   "cell_type": "code",
   "execution_count": 29,
   "id": "4aa7f35b",
   "metadata": {},
   "outputs": [],
   "source": [
    "kullaniciMaasInt=int(kullaniciMaas)"
   ]
  },
  {
   "cell_type": "code",
   "execution_count": 37,
   "id": "a3f87f7f",
   "metadata": {},
   "outputs": [
    {
     "data": {
      "text/plain": [
       "True"
      ]
     },
     "execution_count": 37,
     "metadata": {},
     "output_type": "execute_result"
    }
   ],
   "source": [
    "kullaniciMaasInt>ort"
   ]
  },
  {
   "cell_type": "code",
   "execution_count": 38,
   "id": "541655b7",
   "metadata": {},
   "outputs": [],
   "source": [
    "x=10\n",
    "y=8"
   ]
  },
  {
   "cell_type": "code",
   "execution_count": 39,
   "id": "c327fc86",
   "metadata": {},
   "outputs": [
    {
     "data": {
      "text/plain": [
       "True"
      ]
     },
     "execution_count": 39,
     "metadata": {},
     "output_type": "execute_result"
    }
   ],
   "source": [
    "x>y"
   ]
  },
  {
   "cell_type": "code",
   "execution_count": 40,
   "id": "8f6325e4",
   "metadata": {},
   "outputs": [
    {
     "data": {
      "text/plain": [
       "False"
      ]
     },
     "execution_count": 40,
     "metadata": {},
     "output_type": "execute_result"
    }
   ],
   "source": [
    "x==y"
   ]
  },
  {
   "cell_type": "code",
   "execution_count": 43,
   "id": "550e47bc",
   "metadata": {},
   "outputs": [
    {
     "data": {
      "text/plain": [
       "True"
      ]
     },
     "execution_count": 43,
     "metadata": {},
     "output_type": "execute_result"
    }
   ],
   "source": [
    "x!=y"
   ]
  },
  {
   "cell_type": "code",
   "execution_count": 44,
   "id": "f6636f2a",
   "metadata": {},
   "outputs": [
    {
     "data": {
      "text/plain": [
       "True"
      ]
     },
     "execution_count": 44,
     "metadata": {},
     "output_type": "execute_result"
    }
   ],
   "source": [
    "4>1 and 5>4"
   ]
  },
  {
   "cell_type": "code",
   "execution_count": 46,
   "id": "845903e6",
   "metadata": {},
   "outputs": [
    {
     "data": {
      "text/plain": [
       "True"
      ]
     },
     "execution_count": 46,
     "metadata": {},
     "output_type": "execute_result"
    }
   ],
   "source": [
    "1>4 or 2>1 "
   ]
  },
  {
   "cell_type": "markdown",
   "id": "754abd5d",
   "metadata": {},
   "source": [
    "5==5"
   ]
  },
  {
   "cell_type": "code",
   "execution_count": 47,
   "id": "466706d3",
   "metadata": {},
   "outputs": [
    {
     "data": {
      "text/plain": [
       "True"
      ]
     },
     "execution_count": 47,
     "metadata": {},
     "output_type": "execute_result"
    }
   ],
   "source": [
    "5==5"
   ]
  },
  {
   "cell_type": "code",
   "execution_count": 49,
   "id": "bffa7d61",
   "metadata": {},
   "outputs": [
    {
     "name": "stderr",
     "output_type": "stream",
     "text": [
      "'5' is not recognized as an internal or external command,\n",
      "operable program or batch file.\n"
     ]
    }
   ],
   "source": [
    "! 5==5"
   ]
  },
  {
   "cell_type": "code",
   "execution_count": 50,
   "id": "bc696139",
   "metadata": {},
   "outputs": [
    {
     "data": {
      "text/plain": [
       "False"
      ]
     },
     "execution_count": 50,
     "metadata": {},
     "output_type": "execute_result"
    }
   ],
   "source": [
    "not 5==5"
   ]
  },
  {
   "cell_type": "code",
   "execution_count": null,
   "id": "0701f835",
   "metadata": {},
   "outputs": [],
   "source": []
  }
 ],
 "metadata": {
  "kernelspec": {
   "display_name": "Python 3 (ipykernel)",
   "language": "python",
   "name": "python3"
  },
  "language_info": {
   "codemirror_mode": {
    "name": "ipython",
    "version": 3
   },
   "file_extension": ".py",
   "mimetype": "text/x-python",
   "name": "python",
   "nbconvert_exporter": "python",
   "pygments_lexer": "ipython3",
   "version": "3.11.4"
  }
 },
 "nbformat": 4,
 "nbformat_minor": 5
}
