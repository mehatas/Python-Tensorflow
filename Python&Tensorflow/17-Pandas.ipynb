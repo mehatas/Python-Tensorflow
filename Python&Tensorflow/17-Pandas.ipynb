{
 "cells": [
  {
   "cell_type": "code",
   "execution_count": 2,
   "id": "028257ac",
   "metadata": {},
   "outputs": [],
   "source": [
    "import pandas as pd\n",
    "import numpy as np"
   ]
  },
  {
   "cell_type": "code",
   "execution_count": 3,
   "id": "47ebc3ed",
   "metadata": {},
   "outputs": [],
   "source": [
    "##series/seriler"
   ]
  },
  {
   "cell_type": "code",
   "execution_count": 7,
   "id": "4cf1a1c8",
   "metadata": {},
   "outputs": [],
   "source": [
    "benimSozluk ={\"atil\":50,\"zeynep\":20,\"mehmet\":23}"
   ]
  },
  {
   "cell_type": "code",
   "execution_count": 8,
   "id": "f5718382",
   "metadata": {},
   "outputs": [
    {
     "data": {
      "text/plain": [
       "atil      50\n",
       "zeynep    20\n",
       "mehmet    23\n",
       "dtype: int64"
      ]
     },
     "execution_count": 8,
     "metadata": {},
     "output_type": "execute_result"
    }
   ],
   "source": [
    "pd.Series(benimSozluk)"
   ]
  },
  {
   "cell_type": "code",
   "execution_count": 18,
   "id": "47d8af9d",
   "metadata": {},
   "outputs": [],
   "source": [
    "benimYas=[10,20,30]\n",
    "benimIsim=[\"ali\",\"mehmet\",\"alina\"]"
   ]
  },
  {
   "cell_type": "code",
   "execution_count": 19,
   "id": "9f90a58b",
   "metadata": {},
   "outputs": [
    {
     "data": {
      "text/plain": [
       "0    10\n",
       "1    20\n",
       "2    30\n",
       "dtype: int64"
      ]
     },
     "execution_count": 19,
     "metadata": {},
     "output_type": "execute_result"
    }
   ],
   "source": [
    "pd.Series(benimYas)"
   ]
  },
  {
   "cell_type": "code",
   "execution_count": 20,
   "id": "90cb5d6c",
   "metadata": {},
   "outputs": [
    {
     "data": {
      "text/plain": [
       "ali       10\n",
       "mehmet    20\n",
       "alina     30\n",
       "dtype: int64"
      ]
     },
     "execution_count": 20,
     "metadata": {},
     "output_type": "execute_result"
    }
   ],
   "source": [
    "pd.Series(data=benimYas,index=benimIsim)"
   ]
  },
  {
   "cell_type": "code",
   "execution_count": 21,
   "id": "e86673d2",
   "metadata": {},
   "outputs": [],
   "source": [
    "numpyDizi=np.array([43,54,42])"
   ]
  },
  {
   "cell_type": "code",
   "execution_count": 22,
   "id": "701112be",
   "metadata": {},
   "outputs": [
    {
     "data": {
      "text/plain": [
       "0    43\n",
       "1    54\n",
       "2    42\n",
       "dtype: int32"
      ]
     },
     "execution_count": 22,
     "metadata": {},
     "output_type": "execute_result"
    }
   ],
   "source": [
    "pd.Series(numpyDizi)"
   ]
  },
  {
   "cell_type": "code",
   "execution_count": 23,
   "id": "28a6eb24",
   "metadata": {},
   "outputs": [
    {
     "data": {
      "text/plain": [
       "ali       43\n",
       "mehmet    54\n",
       "alina     42\n",
       "dtype: int32"
      ]
     },
     "execution_count": 23,
     "metadata": {},
     "output_type": "execute_result"
    }
   ],
   "source": [
    "pd.Series(numpyDizi,benimIsim)"
   ]
  },
  {
   "cell_type": "code",
   "execution_count": 25,
   "id": "39c910d4",
   "metadata": {},
   "outputs": [
    {
     "data": {
      "text/plain": [
       "1    ahmet\n",
       "2    atlas\n",
       "3    osman\n",
       "dtype: object"
      ]
     },
     "execution_count": 25,
     "metadata": {},
     "output_type": "execute_result"
    }
   ],
   "source": [
    "pd.Series([\"ahmet\",\"atlas\",\"osman\"],[1,2,3])"
   ]
  },
  {
   "cell_type": "code",
   "execution_count": 26,
   "id": "378f86a0",
   "metadata": {},
   "outputs": [],
   "source": [
    "yarismaSonucu1=pd.Series([10,5,2],[\"ahmet\",\"atlas\",\"osman\"])"
   ]
  },
  {
   "cell_type": "code",
   "execution_count": 27,
   "id": "3c24bb1a",
   "metadata": {},
   "outputs": [
    {
     "data": {
      "text/plain": [
       "ahmet    10\n",
       "atlas     5\n",
       "osman     2\n",
       "dtype: int64"
      ]
     },
     "execution_count": 27,
     "metadata": {},
     "output_type": "execute_result"
    }
   ],
   "source": [
    "yarismaSonucu1"
   ]
  },
  {
   "cell_type": "code",
   "execution_count": 28,
   "id": "b2d03c4d",
   "metadata": {},
   "outputs": [],
   "source": [
    "yarismaSonucu2=pd.Series([20,15,12],[\"ahmet\",\"atlas\",\"osman\"])"
   ]
  },
  {
   "cell_type": "code",
   "execution_count": 30,
   "id": "b196719d",
   "metadata": {},
   "outputs": [
    {
     "data": {
      "text/plain": [
       "ahmet    20\n",
       "atlas    15\n",
       "osman    12\n",
       "dtype: int64"
      ]
     },
     "execution_count": 30,
     "metadata": {},
     "output_type": "execute_result"
    }
   ],
   "source": [
    "yarismaSonucu2"
   ]
  },
  {
   "cell_type": "code",
   "execution_count": 34,
   "id": "d532cd15",
   "metadata": {},
   "outputs": [],
   "source": [
    "sonSonuc=yarismaSonucu2+yarismaSonucu1"
   ]
  },
  {
   "cell_type": "code",
   "execution_count": 35,
   "id": "248fa14f",
   "metadata": {},
   "outputs": [
    {
     "data": {
      "text/plain": [
       "ahmet    30\n",
       "atlas    20\n",
       "osman    14\n",
       "dtype: int64"
      ]
     },
     "execution_count": 35,
     "metadata": {},
     "output_type": "execute_result"
    }
   ],
   "source": [
    "sonSonuc"
   ]
  },
  {
   "cell_type": "code",
   "execution_count": 36,
   "id": "244b8cce",
   "metadata": {},
   "outputs": [],
   "source": [
    "yarismaSonucu3=pd.Series([202,115,6612],[\"ahmet\",\"atlas\",\"osman\"])\n",
    "yarismaSonucu4=pd.Series([250,125,126],[\"degkan\",\"ald\",\"ahmet\"])"
   ]
  },
  {
   "cell_type": "code",
   "execution_count": 37,
   "id": "0ceb5b54",
   "metadata": {},
   "outputs": [],
   "source": [
    "farkliSonuc=yarismaSonucu3+yarismaSonucu4"
   ]
  },
  {
   "cell_type": "code",
   "execution_count": 38,
   "id": "935205ce",
   "metadata": {},
   "outputs": [
    {
     "data": {
      "text/plain": [
       "ahmet     452.0\n",
       "ald         NaN\n",
       "atlas       NaN\n",
       "defkan      NaN\n",
       "osman       NaN\n",
       "dtype: float64"
      ]
     },
     "execution_count": 38,
     "metadata": {},
     "output_type": "execute_result"
    }
   ],
   "source": [
    "farkliSonuc"
   ]
  },
  {
   "cell_type": "code",
   "execution_count": null,
   "id": "67cfe9c5",
   "metadata": {},
   "outputs": [],
   "source": []
  }
 ],
 "metadata": {
  "kernelspec": {
   "display_name": "Python 3 (ipykernel)",
   "language": "python",
   "name": "python3"
  },
  "language_info": {
   "codemirror_mode": {
    "name": "ipython",
    "version": 3
   },
   "file_extension": ".py",
   "mimetype": "text/x-python",
   "name": "python",
   "nbconvert_exporter": "python",
   "pygments_lexer": "ipython3",
   "version": "3.11.4"
  }
 },
 "nbformat": 4,
 "nbformat_minor": 5
}
