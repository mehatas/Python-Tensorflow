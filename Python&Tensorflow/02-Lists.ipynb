{
 "cells": [
  {
   "cell_type": "code",
   "execution_count": 1,
   "id": "88eca67d",
   "metadata": {},
   "outputs": [],
   "source": [
    "benimString=\"mehmet atas\""
   ]
  },
  {
   "cell_type": "code",
   "execution_count": 2,
   "id": "19f8880e",
   "metadata": {},
   "outputs": [
    {
     "data": {
      "text/plain": [
       "'m'"
      ]
     },
     "execution_count": 2,
     "metadata": {},
     "output_type": "execute_result"
    }
   ],
   "source": [
    "benimString[0]"
   ]
  },
  {
   "cell_type": "code",
   "execution_count": 3,
   "id": "9a18b769",
   "metadata": {},
   "outputs": [],
   "source": [
    "## immutability & mutable"
   ]
  },
  {
   "cell_type": "code",
   "execution_count": 4,
   "id": "f31f1089",
   "metadata": {},
   "outputs": [
    {
     "ename": "TypeError",
     "evalue": "'str' object does not support item assignment",
     "output_type": "error",
     "traceback": [
      "\u001b[1;31m---------------------------------------------------------------------------\u001b[0m",
      "\u001b[1;31mTypeError\u001b[0m                                 Traceback (most recent call last)",
      "Cell \u001b[1;32mIn[4], line 1\u001b[0m\n\u001b[1;32m----> 1\u001b[0m benimString[\u001b[38;5;241m1\u001b[39m]\u001b[38;5;241m=\u001b[39m\u001b[38;5;124m\"\u001b[39m\u001b[38;5;124ms\u001b[39m\u001b[38;5;124m\"\u001b[39m\n",
      "\u001b[1;31mTypeError\u001b[0m: 'str' object does not support item assignment"
     ]
    }
   ],
   "source": [
    "benimString[1]=\"s\""
   ]
  },
  {
   "cell_type": "code",
   "execution_count": 2,
   "id": "f262f82c",
   "metadata": {},
   "outputs": [],
   "source": [
    "benimList= [10,23,43,24]"
   ]
  },
  {
   "cell_type": "code",
   "execution_count": 11,
   "id": "aef1b1cc",
   "metadata": {},
   "outputs": [
    {
     "data": {
      "text/plain": [
       "list"
      ]
     },
     "execution_count": 11,
     "metadata": {},
     "output_type": "execute_result"
    }
   ],
   "source": [
    "type(benimList)"
   ]
  },
  {
   "cell_type": "code",
   "execution_count": 13,
   "id": "419e6845",
   "metadata": {},
   "outputs": [],
   "source": [
    "benimNumara=100\n",
    "benimDigerNumara=123"
   ]
  },
  {
   "cell_type": "code",
   "execution_count": 15,
   "id": "5dd8ad4b",
   "metadata": {},
   "outputs": [],
   "source": [
    "benimNumaraListem=[benimNumara,benimDigerNumara]"
   ]
  },
  {
   "cell_type": "code",
   "execution_count": 16,
   "id": "2d3d1af7",
   "metadata": {},
   "outputs": [
    {
     "data": {
      "text/plain": [
       "123"
      ]
     },
     "execution_count": 16,
     "metadata": {},
     "output_type": "execute_result"
    }
   ],
   "source": [
    "benimNumaraListem[1]"
   ]
  },
  {
   "cell_type": "code",
   "execution_count": 17,
   "id": "1ac54b89",
   "metadata": {},
   "outputs": [],
   "source": [
    "benimNumaraListem[1]=1234"
   ]
  },
  {
   "cell_type": "code",
   "execution_count": 18,
   "id": "ff91ef43",
   "metadata": {},
   "outputs": [
    {
     "data": {
      "text/plain": [
       "1234"
      ]
     },
     "execution_count": 18,
     "metadata": {},
     "output_type": "execute_result"
    }
   ],
   "source": [
    "benimNumaraListem[1]"
   ]
  },
  {
   "cell_type": "code",
   "execution_count": 19,
   "id": "6ff37624",
   "metadata": {},
   "outputs": [],
   "source": [
    "benimNumaraListem.append(12345)"
   ]
  },
  {
   "cell_type": "code",
   "execution_count": 20,
   "id": "395c2845",
   "metadata": {},
   "outputs": [
    {
     "data": {
      "text/plain": [
       "[100, 1234, 12345]"
      ]
     },
     "execution_count": 20,
     "metadata": {},
     "output_type": "execute_result"
    }
   ],
   "source": [
    "benimNumaraListem"
   ]
  },
  {
   "cell_type": "code",
   "execution_count": 3,
   "id": "0766c6f6",
   "metadata": {},
   "outputs": [
    {
     "data": {
      "text/plain": [
       "24"
      ]
     },
     "execution_count": 3,
     "metadata": {},
     "output_type": "execute_result"
    }
   ],
   "source": [
    "## son elemanı çıkarır.\n",
    "benimList.pop()"
   ]
  },
  {
   "cell_type": "code",
   "execution_count": 4,
   "id": "b51c8d6b",
   "metadata": {},
   "outputs": [
    {
     "data": {
      "text/plain": [
       "[10, 23, 43]"
      ]
     },
     "execution_count": 4,
     "metadata": {},
     "output_type": "execute_result"
    }
   ],
   "source": [
    "benimList"
   ]
  },
  {
   "cell_type": "code",
   "execution_count": 7,
   "id": "26c9f442",
   "metadata": {},
   "outputs": [],
   "source": [
    "benimList.remove(10)"
   ]
  },
  {
   "cell_type": "code",
   "execution_count": 8,
   "id": "19a89ae4",
   "metadata": {},
   "outputs": [
    {
     "data": {
      "text/plain": [
       "[23, 43]"
      ]
     },
     "execution_count": 8,
     "metadata": {},
     "output_type": "execute_result"
    }
   ],
   "source": [
    "benimList"
   ]
  },
  {
   "cell_type": "code",
   "execution_count": 18,
   "id": "2ab6075c",
   "metadata": {},
   "outputs": [
    {
     "data": {
      "text/plain": [
       "5"
      ]
     },
     "execution_count": 18,
     "metadata": {},
     "output_type": "execute_result"
    }
   ],
   "source": [
    "## x elemanından listede kaç tane var\n",
    "benimList.count(23)"
   ]
  },
  {
   "cell_type": "code",
   "execution_count": 17,
   "id": "54a8604d",
   "metadata": {},
   "outputs": [],
   "source": [
    "benimList.append(23)"
   ]
  },
  {
   "cell_type": "code",
   "execution_count": 20,
   "id": "be1b3643",
   "metadata": {},
   "outputs": [
    {
     "data": {
      "text/plain": [
       "[23, 43, 23, 23, 23, 23]"
      ]
     },
     "execution_count": 20,
     "metadata": {},
     "output_type": "execute_result"
    }
   ],
   "source": [
    "benimList"
   ]
  },
  {
   "cell_type": "code",
   "execution_count": 21,
   "id": "0b5c8709",
   "metadata": {},
   "outputs": [
    {
     "data": {
      "text/plain": [
       "23"
      ]
     },
     "execution_count": 21,
     "metadata": {},
     "output_type": "execute_result"
    }
   ],
   "source": [
    "benimList.pop()"
   ]
  },
  {
   "cell_type": "code",
   "execution_count": 24,
   "id": "cea138f4",
   "metadata": {},
   "outputs": [],
   "source": [
    "stringList=[\"a\",\"b\",\"c\"]"
   ]
  },
  {
   "cell_type": "code",
   "execution_count": 23,
   "id": "e4d11815",
   "metadata": {},
   "outputs": [
    {
     "data": {
      "text/plain": [
       "'c'"
      ]
     },
     "execution_count": 23,
     "metadata": {},
     "output_type": "execute_result"
    }
   ],
   "source": [
    "stringList[2]"
   ]
  },
  {
   "cell_type": "code",
   "execution_count": 25,
   "id": "d3889bc5",
   "metadata": {},
   "outputs": [],
   "source": [
    "stringList2=[\"c\",\"d\"]"
   ]
  },
  {
   "cell_type": "code",
   "execution_count": 26,
   "id": "28c56354",
   "metadata": {},
   "outputs": [],
   "source": [
    "toplamaList=stringList+stringList2"
   ]
  },
  {
   "cell_type": "code",
   "execution_count": 27,
   "id": "8c214d95",
   "metadata": {},
   "outputs": [
    {
     "data": {
      "text/plain": [
       "['a', 'b', 'c', 'c', 'd']"
      ]
     },
     "execution_count": 27,
     "metadata": {},
     "output_type": "execute_result"
    }
   ],
   "source": [
    "toplamaList"
   ]
  },
  {
   "cell_type": "code",
   "execution_count": 28,
   "id": "fd70cb5a",
   "metadata": {},
   "outputs": [
    {
     "data": {
      "text/plain": [
       "['a',\n",
       " 'b',\n",
       " 'c',\n",
       " 'a',\n",
       " 'b',\n",
       " 'c',\n",
       " 'a',\n",
       " 'b',\n",
       " 'c',\n",
       " 'a',\n",
       " 'b',\n",
       " 'c',\n",
       " 'a',\n",
       " 'b',\n",
       " 'c',\n",
       " 'a',\n",
       " 'b',\n",
       " 'c',\n",
       " 'a',\n",
       " 'b',\n",
       " 'c',\n",
       " 'a',\n",
       " 'b',\n",
       " 'c',\n",
       " 'a',\n",
       " 'b',\n",
       " 'c',\n",
       " 'a',\n",
       " 'b',\n",
       " 'c']"
      ]
     },
     "execution_count": 28,
     "metadata": {},
     "output_type": "execute_result"
    }
   ],
   "source": [
    "stringList*10"
   ]
  },
  {
   "cell_type": "code",
   "execution_count": 30,
   "id": "ae6abfd8",
   "metadata": {},
   "outputs": [],
   "source": [
    "toplamaList.reverse()"
   ]
  },
  {
   "cell_type": "code",
   "execution_count": 31,
   "id": "4046ade3",
   "metadata": {},
   "outputs": [
    {
     "data": {
      "text/plain": [
       "['d', 'c', 'c', 'b', 'a']"
      ]
     },
     "execution_count": 31,
     "metadata": {},
     "output_type": "execute_result"
    }
   ],
   "source": [
    "toplamaList"
   ]
  },
  {
   "cell_type": "code",
   "execution_count": 32,
   "id": "98dbec39",
   "metadata": {},
   "outputs": [],
   "source": [
    " karisikListe=[1,2,3.5,\"mehmet\"]"
   ]
  },
  {
   "cell_type": "code",
   "execution_count": 33,
   "id": "ac8a5a6c",
   "metadata": {},
   "outputs": [
    {
     "data": {
      "text/plain": [
       "list"
      ]
     },
     "execution_count": 33,
     "metadata": {},
     "output_type": "execute_result"
    }
   ],
   "source": [
    "type(karisikListe)"
   ]
  },
  {
   "cell_type": "code",
   "execution_count": 34,
   "id": "e8b1d1c1",
   "metadata": {},
   "outputs": [],
   "source": [
    "sonuc=karisikListe[2]"
   ]
  },
  {
   "cell_type": "code",
   "execution_count": 35,
   "id": "bc878a51",
   "metadata": {},
   "outputs": [
    {
     "data": {
      "text/plain": [
       "float"
      ]
     },
     "execution_count": 35,
     "metadata": {},
     "output_type": "execute_result"
    }
   ],
   "source": [
    "type(sonuc)"
   ]
  },
  {
   "cell_type": "code",
   "execution_count": 36,
   "id": "85d9b26c",
   "metadata": {},
   "outputs": [],
   "source": [
    "sonnuc=karisikListe[3]"
   ]
  },
  {
   "cell_type": "code",
   "execution_count": 37,
   "id": "61ab5a44",
   "metadata": {},
   "outputs": [
    {
     "data": {
      "text/plain": [
       "str"
      ]
     },
     "execution_count": 37,
     "metadata": {},
     "output_type": "execute_result"
    }
   ],
   "source": [
    "type(sonnuc)"
   ]
  },
  {
   "cell_type": "code",
   "execution_count": 48,
   "id": "6e20d1b0",
   "metadata": {},
   "outputs": [],
   "source": [
    "nestedList=[1,5,\"mehmet\",4,[6,\"atas\"]]"
   ]
  },
  {
   "cell_type": "code",
   "execution_count": 49,
   "id": "ccfe463f",
   "metadata": {},
   "outputs": [
    {
     "data": {
      "text/plain": [
       "list"
      ]
     },
     "execution_count": 49,
     "metadata": {},
     "output_type": "execute_result"
    }
   ],
   "source": [
    "type(nestedList[4])"
   ]
  },
  {
   "cell_type": "code",
   "execution_count": 50,
   "id": "21153975",
   "metadata": {},
   "outputs": [],
   "source": [
    "liste=nestedList[4]\n",
    "degisken=liste[1]"
   ]
  },
  {
   "cell_type": "code",
   "execution_count": 51,
   "id": "c28cac68",
   "metadata": {},
   "outputs": [
    {
     "data": {
      "text/plain": [
       "'atas'"
      ]
     },
     "execution_count": 51,
     "metadata": {},
     "output_type": "execute_result"
    }
   ],
   "source": [
    "degisken"
   ]
  },
  {
   "cell_type": "code",
   "execution_count": 52,
   "id": "5c4f8b1f",
   "metadata": {},
   "outputs": [],
   "source": [
    "degisken=nestedList[4][1]"
   ]
  },
  {
   "cell_type": "code",
   "execution_count": 53,
   "id": "997e5dd0",
   "metadata": {},
   "outputs": [
    {
     "data": {
      "text/plain": [
       "'atas'"
      ]
     },
     "execution_count": 53,
     "metadata": {},
     "output_type": "execute_result"
    }
   ],
   "source": [
    "degisken"
   ]
  },
  {
   "cell_type": "code",
   "execution_count": 55,
   "id": "4fc14312",
   "metadata": {},
   "outputs": [],
   "source": [
    "karmasik=[[1,2,3,[\"a\",\"b\"],50],40,20,[\"z\",5.5],[3,[\"a\"]]]"
   ]
  },
  {
   "cell_type": "code",
   "execution_count": 56,
   "id": "82d9d7dd",
   "metadata": {},
   "outputs": [],
   "source": [
    "deg=karmasik[0][3][1]"
   ]
  },
  {
   "cell_type": "code",
   "execution_count": 57,
   "id": "e957eebf",
   "metadata": {},
   "outputs": [
    {
     "data": {
      "text/plain": [
       "'b'"
      ]
     },
     "execution_count": 57,
     "metadata": {},
     "output_type": "execute_result"
    }
   ],
   "source": [
    "deg"
   ]
  },
  {
   "cell_type": "code",
   "execution_count": 58,
   "id": "20fb82ca",
   "metadata": {},
   "outputs": [
    {
     "data": {
      "text/plain": [
       "['mehmet', 4, [6, 'atas']]"
      ]
     },
     "execution_count": 58,
     "metadata": {},
     "output_type": "execute_result"
    }
   ],
   "source": [
    "nestedList[2:]"
   ]
  },
  {
   "cell_type": "code",
   "execution_count": 59,
   "id": "5373d3e5",
   "metadata": {},
   "outputs": [
    {
     "data": {
      "text/plain": [
       "[1, 5]"
      ]
     },
     "execution_count": 59,
     "metadata": {},
     "output_type": "execute_result"
    }
   ],
   "source": [
    "nestedList[:2]"
   ]
  },
  {
   "cell_type": "code",
   "execution_count": 60,
   "id": "7ec3e897",
   "metadata": {},
   "outputs": [
    {
     "data": {
      "text/plain": [
       "list"
      ]
     },
     "execution_count": 60,
     "metadata": {},
     "output_type": "execute_result"
    }
   ],
   "source": [
    "type(nestedList[:4])"
   ]
  },
  {
   "cell_type": "code",
   "execution_count": null,
   "id": "66ed97dc",
   "metadata": {},
   "outputs": [],
   "source": []
  }
 ],
 "metadata": {
  "kernelspec": {
   "display_name": "Python 3 (ipykernel)",
   "language": "python",
   "name": "python3"
  },
  "language_info": {
   "codemirror_mode": {
    "name": "ipython",
    "version": 3
   },
   "file_extension": ".py",
   "mimetype": "text/x-python",
   "name": "python",
   "nbconvert_exporter": "python",
   "pygments_lexer": "ipython3",
   "version": "3.11.4"
  }
 },
 "nbformat": 4,
 "nbformat_minor": 5
}
