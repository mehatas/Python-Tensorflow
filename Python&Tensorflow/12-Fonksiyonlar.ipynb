{
 "cells": [
  {
   "cell_type": "code",
   "execution_count": 1,
   "id": "c0f0652d",
   "metadata": {},
   "outputs": [],
   "source": [
    "benimAd=\"mehmet atas\""
   ]
  },
  {
   "cell_type": "code",
   "execution_count": 5,
   "id": "a9d6528f",
   "metadata": {},
   "outputs": [],
   "source": [
    "benimAd=benimAd.upper()"
   ]
  },
  {
   "cell_type": "code",
   "execution_count": 6,
   "id": "cef78060",
   "metadata": {},
   "outputs": [
    {
     "data": {
      "text/plain": [
       "'MEHMET ATAS'"
      ]
     },
     "execution_count": 6,
     "metadata": {},
     "output_type": "execute_result"
    }
   ],
   "source": [
    "benimAd"
   ]
  },
  {
   "cell_type": "code",
   "execution_count": 10,
   "id": "0c1ef356",
   "metadata": {},
   "outputs": [],
   "source": [
    "def ilkFonk():\n",
    "    print(\"ilkim\")"
   ]
  },
  {
   "cell_type": "code",
   "execution_count": 9,
   "id": "6b4db25d",
   "metadata": {},
   "outputs": [
    {
     "name": "stdout",
     "output_type": "stream",
     "text": [
      "ilkim\n"
     ]
    }
   ],
   "source": [
    "ilkFonk()"
   ]
  },
  {
   "cell_type": "markdown",
   "id": "3180a62c",
   "metadata": {},
   "source": [
    "# argument & return"
   ]
  },
  {
   "cell_type": "code",
   "execution_count": 16,
   "id": "3fb15762",
   "metadata": {},
   "outputs": [],
   "source": [
    "def yazdir(yazdirilacak):\n",
    "    print(\"merhaba\")\n",
    "    print(yazdirilacak)"
   ]
  },
  {
   "cell_type": "code",
   "execution_count": 17,
   "id": "55010b77",
   "metadata": {},
   "outputs": [
    {
     "name": "stdout",
     "output_type": "stream",
     "text": [
      "merhaba\n",
      "bay\n"
     ]
    }
   ],
   "source": [
    "yazdir(\"bay\")"
   ]
  },
  {
   "cell_type": "code",
   "execution_count": 18,
   "id": "270257e3",
   "metadata": {},
   "outputs": [],
   "source": [
    "def yazdir1(yazdirilacak=\"dunya\"):\n",
    "    print(\"merhaba\")\n",
    "    print(yazdirilacak)"
   ]
  },
  {
   "cell_type": "code",
   "execution_count": 21,
   "id": "c18d1048",
   "metadata": {},
   "outputs": [
    {
     "name": "stdout",
     "output_type": "stream",
     "text": [
      "merhaba\n",
      "ali\n"
     ]
    }
   ],
   "source": [
    "yazdir1(\"ali\")"
   ]
  },
  {
   "cell_type": "code",
   "execution_count": 20,
   "id": "6e5ec168",
   "metadata": {},
   "outputs": [
    {
     "name": "stdout",
     "output_type": "stream",
     "text": [
      "merhaba\n",
      "dunya\n"
     ]
    }
   ],
   "source": [
    "yazdir1()"
   ]
  },
  {
   "cell_type": "code",
   "execution_count": 22,
   "id": "5bf398b5",
   "metadata": {},
   "outputs": [],
   "source": [
    "def toplama(num1,num2):\n",
    "    print(num1+num2)"
   ]
  },
  {
   "cell_type": "code",
   "execution_count": 24,
   "id": "9414a359",
   "metadata": {},
   "outputs": [
    {
     "name": "stdout",
     "output_type": "stream",
     "text": [
      "2200\n"
     ]
    }
   ],
   "source": [
    "toplama(2142,58)"
   ]
  },
  {
   "cell_type": "code",
   "execution_count": 25,
   "id": "f13a67fa",
   "metadata": {},
   "outputs": [
    {
     "name": "stdout",
     "output_type": "stream",
     "text": [
      "248\n"
     ]
    }
   ],
   "source": [
    "yeniDegisken=toplama(214,34)"
   ]
  },
  {
   "cell_type": "code",
   "execution_count": 26,
   "id": "3e8147fe",
   "metadata": {},
   "outputs": [
    {
     "data": {
      "text/plain": [
       "NoneType"
      ]
     },
     "execution_count": 26,
     "metadata": {},
     "output_type": "execute_result"
    }
   ],
   "source": [
    "type(yeniDegisken)"
   ]
  },
  {
   "cell_type": "code",
   "execution_count": 27,
   "id": "b6420e84",
   "metadata": {},
   "outputs": [],
   "source": [
    "def toplamaReturn(num1,num2):\n",
    "    return num1+num2"
   ]
  },
  {
   "cell_type": "code",
   "execution_count": 28,
   "id": "bdd20709",
   "metadata": {},
   "outputs": [],
   "source": [
    "yeniSonuc=toplamaReturn(1,2)"
   ]
  },
  {
   "cell_type": "code",
   "execution_count": 29,
   "id": "215f27e9",
   "metadata": {},
   "outputs": [
    {
     "data": {
      "text/plain": [
       "3"
      ]
     },
     "execution_count": 29,
     "metadata": {},
     "output_type": "execute_result"
    }
   ],
   "source": [
    "yeniSonuc"
   ]
  },
  {
   "cell_type": "code",
   "execution_count": 30,
   "id": "740be28e",
   "metadata": {},
   "outputs": [
    {
     "data": {
      "text/plain": [
       "int"
      ]
     },
     "execution_count": 30,
     "metadata": {},
     "output_type": "execute_result"
    }
   ],
   "source": [
    "type(yeniSonuc)"
   ]
  },
  {
   "cell_type": "code",
   "execution_count": 33,
   "id": "be216df4",
   "metadata": {},
   "outputs": [],
   "source": [
    "def kontrol(s):\n",
    "    if s == \"atıl\":\n",
    "        print(\"kullanıcı adı doğru\")\n",
    "    else:\n",
    "        print(f\"kullanıcı adı:{s}\")"
   ]
  },
  {
   "cell_type": "code",
   "execution_count": 34,
   "id": "bad55889",
   "metadata": {},
   "outputs": [
    {
     "name": "stdout",
     "output_type": "stream",
     "text": [
      "kullanıcı adı:mehmet\n"
     ]
    }
   ],
   "source": [
    "kontrol(\"mehmet\")"
   ]
  },
  {
   "cell_type": "code",
   "execution_count": 35,
   "id": "3e06f2f2",
   "metadata": {},
   "outputs": [
    {
     "name": "stdout",
     "output_type": "stream",
     "text": [
      "kullanıcı adı doğru\n"
     ]
    }
   ],
   "source": [
    "kontrol(\"atıl\")"
   ]
  },
  {
   "cell_type": "markdown",
   "id": "3714c173",
   "metadata": {},
   "source": [
    "# args & kwargs"
   ]
  },
  {
   "cell_type": "code",
   "execution_count": 36,
   "id": "454adbf2",
   "metadata": {},
   "outputs": [],
   "source": [
    "def yeniTop(*args):\n",
    "    return sum(args)"
   ]
  },
  {
   "cell_type": "code",
   "execution_count": 40,
   "id": "b9520f89",
   "metadata": {},
   "outputs": [
    {
     "data": {
      "text/plain": [
       "6500"
      ]
     },
     "execution_count": 40,
     "metadata": {},
     "output_type": "execute_result"
    }
   ],
   "source": [
    "yeniTop(4235,453,643,634,54,436,45)"
   ]
  },
  {
   "cell_type": "code",
   "execution_count": 42,
   "id": "d94b477c",
   "metadata": {},
   "outputs": [],
   "source": [
    " def ornek(**kwargs):\n",
    "        return(kwargs)"
   ]
  },
  {
   "cell_type": "code",
   "execution_count": 43,
   "id": "4402bf7e",
   "metadata": {},
   "outputs": [
    {
     "data": {
      "text/plain": [
       "{'mu': 199, 'su': 1992}"
      ]
     },
     "execution_count": 43,
     "metadata": {},
     "output_type": "execute_result"
    }
   ],
   "source": [
    "ornek(mu=199,su=1992)"
   ]
  },
  {
   "cell_type": "markdown",
   "id": "5939af38",
   "metadata": {},
   "source": [
    " # faydalı fonksiyonlar"
   ]
  },
  {
   "cell_type": "code",
   "execution_count": 44,
   "id": "9314f42d",
   "metadata": {},
   "outputs": [],
   "source": [
    "def bolme(numara):\n",
    "    return numara/2"
   ]
  },
  {
   "cell_type": "code",
   "execution_count": 45,
   "id": "cdee9e7c",
   "metadata": {},
   "outputs": [
    {
     "data": {
      "text/plain": [
       "22.5"
      ]
     },
     "execution_count": 45,
     "metadata": {},
     "output_type": "execute_result"
    }
   ],
   "source": [
    "bolme(45)"
   ]
  },
  {
   "cell_type": "code",
   "execution_count": 47,
   "id": "67fb030b",
   "metadata": {},
   "outputs": [
    {
     "data": {
      "text/plain": [
       "float"
      ]
     },
     "execution_count": 47,
     "metadata": {},
     "output_type": "execute_result"
    }
   ],
   "source": [
    "type(bolme(10))"
   ]
  },
  {
   "cell_type": "code",
   "execution_count": 51,
   "id": "768f474b",
   "metadata": {},
   "outputs": [],
   "source": [
    "benimListem=[1,2,3,4,5,6,7,8,9,10]\n",
    "yeniListe=[]"
   ]
  },
  {
   "cell_type": "code",
   "execution_count": 52,
   "id": "6d27c863",
   "metadata": {},
   "outputs": [],
   "source": [
    "for num in benimListem:\n",
    "    yeniListe.append(bolme(num))"
   ]
  },
  {
   "cell_type": "code",
   "execution_count": 55,
   "id": "095c6dca",
   "metadata": {},
   "outputs": [
    {
     "data": {
      "text/plain": [
       "[0.5, 1.0, 1.5, 2.0, 2.5, 3.0, 3.5, 4.0, 4.5, 5.0]"
      ]
     },
     "execution_count": 55,
     "metadata": {},
     "output_type": "execute_result"
    }
   ],
   "source": [
    "yeniListe"
   ]
  },
  {
   "cell_type": "markdown",
   "id": "b5db7fa2",
   "metadata": {},
   "source": [
    "# map "
   ]
  },
  {
   "cell_type": "code",
   "execution_count": 57,
   "id": "4630cd87",
   "metadata": {},
   "outputs": [
    {
     "data": {
      "text/plain": [
       "[0.5, 1.0, 1.5, 2.0, 2.5, 3.0, 3.5, 4.0, 4.5, 5.0]"
      ]
     },
     "execution_count": 57,
     "metadata": {},
     "output_type": "execute_result"
    }
   ],
   "source": [
    "list(map(bolme,benimListem))"
   ]
  },
  {
   "cell_type": "code",
   "execution_count": 60,
   "id": "326073e4",
   "metadata": {},
   "outputs": [],
   "source": [
    "def kontrolFonksiyonu(string):\n",
    "    return \"a\" in string"
   ]
  },
  {
   "cell_type": "code",
   "execution_count": 61,
   "id": "86fcc27a",
   "metadata": {},
   "outputs": [
    {
     "data": {
      "text/plain": [
       "True"
      ]
     },
     "execution_count": 61,
     "metadata": {},
     "output_type": "execute_result"
    }
   ],
   "source": [
    "kontrolFonksiyonu(\"ali\")"
   ]
  },
  {
   "cell_type": "code",
   "execution_count": 65,
   "id": "2c158de2",
   "metadata": {},
   "outputs": [],
   "source": [
    "kontrolListe=[\"mehmet\",\"ali\",\"ayse\",\"alina\",\"kayra\",\"zemzem\"]"
   ]
  },
  {
   "cell_type": "code",
   "execution_count": 67,
   "id": "f9b055eb",
   "metadata": {},
   "outputs": [],
   "source": [
    "veriListesi=list(map(kontrolFonksiyonu,kontrolListe))"
   ]
  },
  {
   "cell_type": "code",
   "execution_count": 69,
   "id": "aded199b",
   "metadata": {},
   "outputs": [
    {
     "data": {
      "text/plain": [
       "[False, True, True, True, True, False]"
      ]
     },
     "execution_count": 69,
     "metadata": {},
     "output_type": "execute_result"
    }
   ],
   "source": [
    "veriListesi"
   ]
  },
  {
   "cell_type": "code",
   "execution_count": 70,
   "id": "b52b05f1",
   "metadata": {},
   "outputs": [
    {
     "data": {
      "text/plain": [
       "4"
      ]
     },
     "execution_count": 70,
     "metadata": {},
     "output_type": "execute_result"
    }
   ],
   "source": [
    "veriListesi.count(True)"
   ]
  },
  {
   "cell_type": "markdown",
   "id": "5fb88833",
   "metadata": {},
   "source": [
    "# filter"
   ]
  },
  {
   "cell_type": "code",
   "execution_count": 72,
   "id": "2f2f8de4",
   "metadata": {},
   "outputs": [
    {
     "data": {
      "text/plain": [
       "['ali', 'ayse', 'alina', 'kayra']"
      ]
     },
     "execution_count": 72,
     "metadata": {},
     "output_type": "execute_result"
    }
   ],
   "source": [
    "list(filter(kontrolFonksiyonu,kontrolListe))"
   ]
  },
  {
   "cell_type": "markdown",
   "id": "fee5a7dc",
   "metadata": {},
   "source": [
    "## lambda"
   ]
  },
  {
   "cell_type": "code",
   "execution_count": 73,
   "id": "6a627011",
   "metadata": {},
   "outputs": [],
   "source": [
    "carpma = lambda numara : numara * 3"
   ]
  },
  {
   "cell_type": "code",
   "execution_count": 74,
   "id": "6f345163",
   "metadata": {},
   "outputs": [
    {
     "data": {
      "text/plain": [
       "4464"
      ]
     },
     "execution_count": 74,
     "metadata": {},
     "output_type": "execute_result"
    }
   ],
   "source": [
    "carpma(1488)"
   ]
  },
  {
   "cell_type": "code",
   "execution_count": 75,
   "id": "2e1d498d",
   "metadata": {},
   "outputs": [],
   "source": [
    "listdeneme=[1,2,3,4,5]"
   ]
  },
  {
   "cell_type": "code",
   "execution_count": 76,
   "id": "5d91aaf6",
   "metadata": {},
   "outputs": [
    {
     "data": {
      "text/plain": [
       "[10, 20, 30, 40, 50]"
      ]
     },
     "execution_count": 76,
     "metadata": {},
     "output_type": "execute_result"
    }
   ],
   "source": [
    "list(map(lambda num:num*10,listdeneme))"
   ]
  },
  {
   "cell_type": "code",
   "execution_count": null,
   "id": "5a69d24d",
   "metadata": {},
   "outputs": [],
   "source": []
  }
 ],
 "metadata": {
  "kernelspec": {
   "display_name": "Python 3 (ipykernel)",
   "language": "python",
   "name": "python3"
  },
  "language_info": {
   "codemirror_mode": {
    "name": "ipython",
    "version": 3
   },
   "file_extension": ".py",
   "mimetype": "text/x-python",
   "name": "python",
   "nbconvert_exporter": "python",
   "pygments_lexer": "ipython3",
   "version": "3.11.4"
  }
 },
 "nbformat": 4,
 "nbformat_minor": 5
}
