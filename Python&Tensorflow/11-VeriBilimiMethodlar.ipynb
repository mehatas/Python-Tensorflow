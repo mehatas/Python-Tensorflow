{
 "cells": [
  {
   "cell_type": "code",
   "execution_count": 1,
   "id": "acefb4f1",
   "metadata": {},
   "outputs": [],
   "source": [
    "benimListem=[0,1,2,3,4,5,6]"
   ]
  },
  {
   "cell_type": "markdown",
   "id": "6f206d91",
   "metadata": {},
   "source": [
    "# range"
   ]
  },
  {
   "cell_type": "code",
   "execution_count": 4,
   "id": "15a678e3",
   "metadata": {},
   "outputs": [
    {
     "data": {
      "text/plain": [
       "range(0, 15)"
      ]
     },
     "execution_count": 4,
     "metadata": {},
     "output_type": "execute_result"
    }
   ],
   "source": [
    "range(15)"
   ]
  },
  {
   "cell_type": "code",
   "execution_count": 6,
   "id": "8a7e3b2f",
   "metadata": {},
   "outputs": [
    {
     "data": {
      "text/plain": [
       "[0, 1, 2, 3, 4, 5, 6, 7, 8, 9, 10, 11, 12, 13, 14]"
      ]
     },
     "execution_count": 6,
     "metadata": {},
     "output_type": "execute_result"
    }
   ],
   "source": [
    "list(range(15))"
   ]
  },
  {
   "cell_type": "code",
   "execution_count": 7,
   "id": "14d089e9",
   "metadata": {},
   "outputs": [
    {
     "name": "stdout",
     "output_type": "stream",
     "text": [
      "0\n",
      "5\n",
      "10\n",
      "15\n",
      "20\n",
      "25\n",
      "30\n",
      "35\n",
      "40\n",
      "45\n",
      "50\n",
      "55\n",
      "60\n",
      "65\n"
     ]
    }
   ],
   "source": [
    "for numara in list(range(14)):\n",
    "    print(numara*5)"
   ]
  },
  {
   "cell_type": "code",
   "execution_count": 8,
   "id": "1aa9c566",
   "metadata": {},
   "outputs": [
    {
     "data": {
      "text/plain": [
       "[5, 9, 13, 17, 21]"
      ]
     },
     "execution_count": 8,
     "metadata": {},
     "output_type": "execute_result"
    }
   ],
   "source": [
    "list(range(5,22,4))"
   ]
  },
  {
   "cell_type": "markdown",
   "id": "7543aa33",
   "metadata": {},
   "source": [
    "# enumerate"
   ]
  },
  {
   "cell_type": "code",
   "execution_count": 10,
   "id": "47efbd51",
   "metadata": {
    "scrolled": true
   },
   "outputs": [
    {
     "name": "stdout",
     "output_type": "stream",
     "text": [
      "güncel numara: 5 güncel index: 0\n",
      "güncel numara: 6 güncel index: 1\n",
      "güncel numara: 7 güncel index: 2\n",
      "güncel numara: 8 güncel index: 3\n",
      "güncel numara: 9 güncel index: 4\n",
      "güncel numara: 10 güncel index: 5\n",
      "güncel numara: 11 güncel index: 6\n",
      "güncel numara: 12 güncel index: 7\n",
      "güncel numara: 13 güncel index: 8\n",
      "güncel numara: 14 güncel index: 9\n"
     ]
    }
   ],
   "source": [
    "index = 0 \n",
    "for numara in list(range(5,15)):\n",
    "    print(f\"güncel numara: {numara} güncel index: {index}\")\n",
    "    index = index + 1"
   ]
  },
  {
   "cell_type": "code",
   "execution_count": 12,
   "id": "cf2afa2e",
   "metadata": {},
   "outputs": [
    {
     "name": "stdout",
     "output_type": "stream",
     "text": [
      "(0, 5)\n",
      "(1, 6)\n",
      "(2, 7)\n",
      "(3, 8)\n",
      "(4, 9)\n",
      "(5, 10)\n",
      "(6, 11)\n",
      "(7, 12)\n",
      "(8, 13)\n",
      "(9, 14)\n"
     ]
    }
   ],
   "source": [
    "for eleman in enumerate(list(range(5,15))):\n",
    "    print(eleman)"
   ]
  },
  {
   "cell_type": "code",
   "execution_count": 13,
   "id": "93e22204",
   "metadata": {},
   "outputs": [
    {
     "name": "stdout",
     "output_type": "stream",
     "text": [
      "0\n",
      "1\n",
      "2\n",
      "3\n",
      "4\n",
      "5\n",
      "6\n",
      "7\n",
      "8\n",
      "9\n"
     ]
    }
   ],
   "source": [
    "for (index,numara) in enumerate(list(range(5,15))):\n",
    "    print(index)"
   ]
  },
  {
   "cell_type": "markdown",
   "id": "d0614ca6",
   "metadata": {},
   "source": [
    "# random"
   ]
  },
  {
   "cell_type": "code",
   "execution_count": 14,
   "id": "fc6ce07b",
   "metadata": {},
   "outputs": [],
   "source": [
    "from random import randint"
   ]
  },
  {
   "cell_type": "code",
   "execution_count": 19,
   "id": "ccbcd555",
   "metadata": {},
   "outputs": [
    {
     "data": {
      "text/plain": [
       "32"
      ]
     },
     "execution_count": 19,
     "metadata": {},
     "output_type": "execute_result"
    }
   ],
   "source": [
    "randint(0,130)"
   ]
  },
  {
   "cell_type": "code",
   "execution_count": 20,
   "id": "a51281b1",
   "metadata": {},
   "outputs": [],
   "source": [
    "yeniListe=list(range(0,10))"
   ]
  },
  {
   "cell_type": "code",
   "execution_count": 21,
   "id": "3051f03b",
   "metadata": {},
   "outputs": [
    {
     "data": {
      "text/plain": [
       "[0, 1, 2, 3, 4, 5, 6, 7, 8, 9]"
      ]
     },
     "execution_count": 21,
     "metadata": {},
     "output_type": "execute_result"
    }
   ],
   "source": [
    "yeniListe"
   ]
  },
  {
   "cell_type": "code",
   "execution_count": 26,
   "id": "84d7150d",
   "metadata": {},
   "outputs": [
    {
     "data": {
      "text/plain": [
       "2"
      ]
     },
     "execution_count": 26,
     "metadata": {},
     "output_type": "execute_result"
    }
   ],
   "source": [
    "yeniListe[randint(0,10)]"
   ]
  },
  {
   "cell_type": "code",
   "execution_count": 27,
   "id": "9f2471da",
   "metadata": {},
   "outputs": [],
   "source": [
    "from random import shuffle"
   ]
  },
  {
   "cell_type": "code",
   "execution_count": 30,
   "id": "db58d380",
   "metadata": {},
   "outputs": [],
   "source": [
    "shuffle(yeniListe)"
   ]
  },
  {
   "cell_type": "code",
   "execution_count": 31,
   "id": "a8f9e6ed",
   "metadata": {},
   "outputs": [
    {
     "data": {
      "text/plain": [
       "[8, 5, 0, 6, 9, 7, 4, 3, 1, 2]"
      ]
     },
     "execution_count": 31,
     "metadata": {},
     "output_type": "execute_result"
    }
   ],
   "source": [
    "yeniListe"
   ]
  },
  {
   "cell_type": "markdown",
   "id": "9a6bc999",
   "metadata": {},
   "source": [
    "# zip "
   ]
  },
  {
   "cell_type": "code",
   "execution_count": 2,
   "id": "56f1a10a",
   "metadata": {},
   "outputs": [],
   "source": [
    "yemekListesi=[\"muz\",\"ananas\",\"elma\"]\n",
    "kaloriListe=[100,200,300]\n",
    "gunListesi=[\"pazartesi\",\"salı\",\"çarşamba\"]"
   ]
  },
  {
   "cell_type": "code",
   "execution_count": 3,
   "id": "7d477c45",
   "metadata": {},
   "outputs": [],
   "source": [
    "ziplenmisListe=list(zip(yemekListesi,kaloriListe,gunListesi))"
   ]
  },
  {
   "cell_type": "code",
   "execution_count": 4,
   "id": "b03b96c4",
   "metadata": {},
   "outputs": [
    {
     "data": {
      "text/plain": [
       "[('muz', 100, 'pazartesi'), ('ananas', 200, 'salı'), ('elma', 300, 'çarşamba')]"
      ]
     },
     "execution_count": 4,
     "metadata": {},
     "output_type": "execute_result"
    }
   ],
   "source": [
    "ziplenmisListe"
   ]
  },
  {
   "cell_type": "code",
   "execution_count": 5,
   "id": "704d72b3",
   "metadata": {},
   "outputs": [
    {
     "data": {
      "text/plain": [
       "tuple"
      ]
     },
     "execution_count": 5,
     "metadata": {},
     "output_type": "execute_result"
    }
   ],
   "source": [
    "type(ziplenmisListe[0])"
   ]
  },
  {
   "cell_type": "code",
   "execution_count": 7,
   "id": "da0b5a5e",
   "metadata": {},
   "outputs": [],
   "source": [
    " # listeler ileri seviye \n",
    "listeOrnegi=[]\n",
    "benimStr=\"mehmet atas\"\n",
    "for harf in benimStr:\n",
    "    listeOrnegi.append(harf)"
   ]
  },
  {
   "cell_type": "code",
   "execution_count": 8,
   "id": "ddc1faf2",
   "metadata": {},
   "outputs": [
    {
     "data": {
      "text/plain": [
       "['m', 'e', 'h', 'm', 'e', 't', ' ', 'a', 't', 'a', 's']"
      ]
     },
     "execution_count": 8,
     "metadata": {},
     "output_type": "execute_result"
    }
   ],
   "source": [
    "listeOrnegi"
   ]
  },
  {
   "cell_type": "code",
   "execution_count": 9,
   "id": "784f522c",
   "metadata": {},
   "outputs": [],
   "source": [
    "benimStr1=\"mehmet atas\"\n",
    "yeniListe=[eleman for eleman in benimStr1]"
   ]
  },
  {
   "cell_type": "code",
   "execution_count": 10,
   "id": "13549cc1",
   "metadata": {},
   "outputs": [
    {
     "data": {
      "text/plain": [
       "['m', 'e', 'h', 'm', 'e', 't', ' ', 'a', 't', 'a', 's']"
      ]
     },
     "execution_count": 10,
     "metadata": {},
     "output_type": "execute_result"
    }
   ],
   "source": [
    "yeniListe"
   ]
  },
  {
   "cell_type": "code",
   "execution_count": null,
   "id": "664df4da",
   "metadata": {},
   "outputs": [],
   "source": []
  }
 ],
 "metadata": {
  "kernelspec": {
   "display_name": "Python 3 (ipykernel)",
   "language": "python",
   "name": "python3"
  },
  "language_info": {
   "codemirror_mode": {
    "name": "ipython",
    "version": 3
   },
   "file_extension": ".py",
   "mimetype": "text/x-python",
   "name": "python",
   "nbconvert_exporter": "python",
   "pygments_lexer": "ipython3",
   "version": "3.11.4"
  }
 },
 "nbformat": 4,
 "nbformat_minor": 5
}
