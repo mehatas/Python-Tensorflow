{
 "cells": [
  {
   "cell_type": "code",
   "execution_count": 1,
   "id": "921c32c1",
   "metadata": {},
   "outputs": [],
   "source": [
    "benimListe=[10,20,30,40,50,60]"
   ]
  },
  {
   "cell_type": "code",
   "execution_count": 3,
   "id": "9c66da50",
   "metadata": {},
   "outputs": [
    {
     "name": "stdout",
     "output_type": "stream",
     "text": [
      "50\n",
      "100\n",
      "150\n",
      "200\n",
      "250\n",
      "300\n"
     ]
    }
   ],
   "source": [
    "for numara in benimListe:\n",
    "    print(numara*5)"
   ]
  },
  {
   "cell_type": "code",
   "execution_count": 6,
   "id": "c7a6549a",
   "metadata": {},
   "outputs": [
    {
     "name": "stdout",
     "output_type": "stream",
     "text": [
      "100\n",
      "200\n",
      "300\n",
      "400\n",
      "500\n",
      "600\n"
     ]
    }
   ],
   "source": [
    "for num in benimListe:\n",
    "    yeniNum=num*10\n",
    "    print(yeniNum)"
   ]
  },
  {
   "cell_type": "code",
   "execution_count": 7,
   "id": "0a653a8b",
   "metadata": {},
   "outputs": [],
   "source": [
    "newList=[1,2,3,4,5,6]"
   ]
  },
  {
   "cell_type": "code",
   "execution_count": 10,
   "id": "20b59d36",
   "metadata": {},
   "outputs": [
    {
     "name": "stdout",
     "output_type": "stream",
     "text": [
      "2\n",
      "4\n",
      "6\n"
     ]
    }
   ],
   "source": [
    "for rakam in newList:\n",
    "    if rakam%2==0:\n",
    "        print(rakam)"
   ]
  },
  {
   "cell_type": "code",
   "execution_count": 11,
   "id": "b84e4ca8",
   "metadata": {},
   "outputs": [],
   "source": [
    "strr = \"mehmet atas\""
   ]
  },
  {
   "cell_type": "code",
   "execution_count": 12,
   "id": "444669c1",
   "metadata": {},
   "outputs": [
    {
     "name": "stdout",
     "output_type": "stream",
     "text": [
      "m\n",
      "e\n",
      "h\n",
      "m\n",
      "e\n",
      "t\n",
      " \n",
      "a\n",
      "t\n",
      "a\n",
      "s\n"
     ]
    }
   ],
   "source": [
    "for harf in strr:\n",
    "    print(harf)"
   ]
  },
  {
   "cell_type": "code",
   "execution_count": 13,
   "id": "0be1795f",
   "metadata": {},
   "outputs": [],
   "source": [
    "koordinatListesi=[(10.2,15.2),(13.2,14.2),(15.6,19.9)]"
   ]
  },
  {
   "cell_type": "code",
   "execution_count": 14,
   "id": "725a9fd8",
   "metadata": {},
   "outputs": [
    {
     "data": {
      "text/plain": [
       "list"
      ]
     },
     "execution_count": 14,
     "metadata": {},
     "output_type": "execute_result"
    }
   ],
   "source": [
    "type(koordinatListesi)"
   ]
  },
  {
   "cell_type": "code",
   "execution_count": 16,
   "id": "53cd89d7",
   "metadata": {},
   "outputs": [
    {
     "data": {
      "text/plain": [
       "tuple"
      ]
     },
     "execution_count": 16,
     "metadata": {},
     "output_type": "execute_result"
    }
   ],
   "source": [
    "type(koordinatListesi[2])"
   ]
  },
  {
   "cell_type": "code",
   "execution_count": 18,
   "id": "ca4ba58a",
   "metadata": {},
   "outputs": [
    {
     "name": "stdout",
     "output_type": "stream",
     "text": [
      "15.2\n",
      "14.2\n",
      "19.9\n"
     ]
    }
   ],
   "source": [
    "for eleman in koordinatListesi:\n",
    "    print(eleman[1])"
   ]
  },
  {
   "cell_type": "code",
   "execution_count": 19,
   "id": "fef0948b",
   "metadata": {},
   "outputs": [
    {
     "name": "stdout",
     "output_type": "stream",
     "text": [
      "10.2 15.2\n",
      "13.2 14.2\n",
      "15.6 19.9\n"
     ]
    }
   ],
   "source": [
    "for (x,y) in koordinatListesi:\n",
    "    print(x,y)"
   ]
  },
  {
   "cell_type": "code",
   "execution_count": 20,
   "id": "a0552efc",
   "metadata": {},
   "outputs": [],
   "source": [
    "benimDict={\"muz\":100,\"elma\":140}"
   ]
  },
  {
   "cell_type": "code",
   "execution_count": 22,
   "id": "bd8b1c5f",
   "metadata": {},
   "outputs": [
    {
     "data": {
      "text/plain": [
       "dict_items([('muz', 100), ('elma', 140)])"
      ]
     },
     "execution_count": 22,
     "metadata": {},
     "output_type": "execute_result"
    }
   ],
   "source": [
    "benimDict.items()"
   ]
  },
  {
   "cell_type": "code",
   "execution_count": 23,
   "id": "7c979a60",
   "metadata": {},
   "outputs": [
    {
     "data": {
      "text/plain": [
       "dict_items"
      ]
     },
     "execution_count": 23,
     "metadata": {},
     "output_type": "execute_result"
    }
   ],
   "source": [
    "type(benimDict.items())"
   ]
  },
  {
   "cell_type": "code",
   "execution_count": 28,
   "id": "26381f5e",
   "metadata": {},
   "outputs": [
    {
     "name": "stdout",
     "output_type": "stream",
     "text": [
      "muz : 100\n",
      "elma : 140\n"
     ]
    }
   ],
   "source": [
    "for (anahtar,deger) in benimDict.items():\n",
    "    print(anahtar,\":\",deger)"
   ]
  },
  {
   "cell_type": "code",
   "execution_count": null,
   "id": "4ef85129",
   "metadata": {},
   "outputs": [],
   "source": []
  }
 ],
 "metadata": {
  "kernelspec": {
   "display_name": "Python 3 (ipykernel)",
   "language": "python",
   "name": "python3"
  },
  "language_info": {
   "codemirror_mode": {
    "name": "ipython",
    "version": 3
   },
   "file_extension": ".py",
   "mimetype": "text/x-python",
   "name": "python",
   "nbconvert_exporter": "python",
   "pygments_lexer": "ipython3",
   "version": "3.11.4"
  }
 },
 "nbformat": 4,
 "nbformat_minor": 5
}
