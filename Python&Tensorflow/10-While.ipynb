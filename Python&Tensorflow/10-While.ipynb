{
 "cells": [
  {
   "cell_type": "code",
   "execution_count": 1,
   "id": "3269f432",
   "metadata": {},
   "outputs": [
    {
     "name": "stdout",
     "output_type": "stream",
     "text": [
      "0\n",
      "1\n",
      "2\n",
      "3\n",
      "4\n",
      "5\n",
      "6\n",
      "7\n",
      "8\n",
      "9\n"
     ]
    }
   ],
   "source": [
    "x = 0\n",
    "while x < 10:\n",
    "    print(x)\n",
    "    x=x+1"
   ]
  },
  {
   "cell_type": "code",
   "execution_count": 2,
   "id": "16e8dae6",
   "metadata": {},
   "outputs": [],
   "source": [
    "benimList=[1,2,3,4,5]"
   ]
  },
  {
   "cell_type": "code",
   "execution_count": 3,
   "id": "4b441a37",
   "metadata": {},
   "outputs": [
    {
     "data": {
      "text/plain": [
       "5"
      ]
     },
     "execution_count": 3,
     "metadata": {},
     "output_type": "execute_result"
    }
   ],
   "source": [
    "benimList.pop()"
   ]
  },
  {
   "cell_type": "code",
   "execution_count": 4,
   "id": "3c6e49cb",
   "metadata": {},
   "outputs": [
    {
     "data": {
      "text/plain": [
       "[1, 2, 3, 4]"
      ]
     },
     "execution_count": 4,
     "metadata": {},
     "output_type": "execute_result"
    }
   ],
   "source": [
    "benimList"
   ]
  },
  {
   "cell_type": "code",
   "execution_count": 5,
   "id": "93f4cab5",
   "metadata": {},
   "outputs": [],
   "source": [
    "benimList.append(5)"
   ]
  },
  {
   "cell_type": "code",
   "execution_count": 6,
   "id": "86436c1a",
   "metadata": {},
   "outputs": [
    {
     "data": {
      "text/plain": [
       "[1, 2, 3, 4, 5]"
      ]
     },
     "execution_count": 6,
     "metadata": {},
     "output_type": "execute_result"
    }
   ],
   "source": [
    "benimList"
   ]
  },
  {
   "cell_type": "code",
   "execution_count": 7,
   "id": "a7ca2c5d",
   "metadata": {},
   "outputs": [
    {
     "name": "stdout",
     "output_type": "stream",
     "text": [
      "merhaba\n",
      "merhaba\n",
      "merhaba\n"
     ]
    }
   ],
   "source": [
    "while 3 in benimList:\n",
    "    print(\"merhaba\")\n",
    "    benimList.pop()"
   ]
  },
  {
   "cell_type": "code",
   "execution_count": 8,
   "id": "84068388",
   "metadata": {},
   "outputs": [],
   "source": [
    "numara=0"
   ]
  },
  {
   "cell_type": "code",
   "execution_count": 9,
   "id": "aefaef2f",
   "metadata": {},
   "outputs": [
    {
     "name": "stdout",
     "output_type": "stream",
     "text": [
      "0\n",
      "1\n",
      "2\n",
      "3\n"
     ]
    }
   ],
   "source": [
    "while numara < 5:\n",
    "    if numara == 4:\n",
    "        break\n",
    "    print(numara)\n",
    "    numara=numara+1"
   ]
  },
  {
   "cell_type": "code",
   "execution_count": 14,
   "id": "58a77998",
   "metadata": {},
   "outputs": [],
   "source": [
    "newDeg=0"
   ]
  },
  {
   "cell_type": "code",
   "execution_count": 13,
   "id": "bd95c557",
   "metadata": {},
   "outputs": [],
   "source": [
    "while newDeg < 15:\n",
    "    print(\"yeni değişkenin güncel değeri: \" + str(newDeg))\n",
    "    newDeg = newDeg+1"
   ]
  },
  {
   "cell_type": "code",
   "execution_count": 16,
   "id": "a433b1e1",
   "metadata": {},
   "outputs": [
    {
     "name": "stdout",
     "output_type": "stream",
     "text": [
      "yeni değişkenin güncel değeri: 0\n",
      "yeni değişkenin güncel değeri: 1\n",
      "yeni değişkenin güncel değeri: 2\n",
      "yeni değişkenin güncel değeri: 3\n",
      "yeni değişkenin güncel değeri: 4\n",
      "yeni değişkenin güncel değeri: 5\n",
      "yeni değişkenin güncel değeri: 6\n",
      "yeni değişkenin güncel değeri: 7\n",
      "yeni değişkenin güncel değeri: 8\n",
      "yeni değişkenin güncel değeri: 9\n",
      "yeni değişkenin güncel değeri: 10\n",
      "yeni değişkenin güncel değeri: 11\n",
      "yeni değişkenin güncel değeri: 12\n",
      "yeni değişkenin güncel değeri: 13\n",
      "yeni değişkenin güncel değeri: 14\n"
     ]
    }
   ],
   "source": [
    "newDeger=0\n",
    "while newDeger< 15:\n",
    "    print(f\"yeni değişkenin güncel değeri: {newDeger}\")\n",
    "    newDeger = newDeger+1"
   ]
  },
  {
   "cell_type": "code",
   "execution_count": null,
   "id": "32dbc683",
   "metadata": {},
   "outputs": [],
   "source": []
  },
  {
   "cell_type": "code",
   "execution_count": null,
   "id": "1f15dd44",
   "metadata": {},
   "outputs": [],
   "source": []
  },
  {
   "cell_type": "code",
   "execution_count": null,
   "id": "5351b087",
   "metadata": {},
   "outputs": [],
   "source": []
  },
  {
   "cell_type": "code",
   "execution_count": null,
   "id": "d5aef961",
   "metadata": {},
   "outputs": [],
   "source": []
  },
  {
   "cell_type": "code",
   "execution_count": null,
   "id": "0b7f3292",
   "metadata": {},
   "outputs": [],
   "source": []
  },
  {
   "cell_type": "code",
   "execution_count": null,
   "id": "b5846069",
   "metadata": {},
   "outputs": [],
   "source": []
  }
 ],
 "metadata": {
  "kernelspec": {
   "display_name": "Python 3 (ipykernel)",
   "language": "python",
   "name": "python3"
  },
  "language_info": {
   "codemirror_mode": {
    "name": "ipython",
    "version": 3
   },
   "file_extension": ".py",
   "mimetype": "text/x-python",
   "name": "python",
   "nbconvert_exporter": "python",
   "pygments_lexer": "ipython3",
   "version": "3.11.4"
  }
 },
 "nbformat": 4,
 "nbformat_minor": 5
}
