{
 "cells": [
  {
   "cell_type": "code",
   "execution_count": 1,
   "id": "2cdb2181",
   "metadata": {},
   "outputs": [],
   "source": [
    "benimList=[1,2,3,1,2,3]"
   ]
  },
  {
   "cell_type": "code",
   "execution_count": 2,
   "id": "edccee05",
   "metadata": {},
   "outputs": [
    {
     "data": {
      "text/plain": [
       "[1, 2, 3, 1, 2, 3]"
      ]
     },
     "execution_count": 2,
     "metadata": {},
     "output_type": "execute_result"
    }
   ],
   "source": [
    "benimList"
   ]
  },
  {
   "cell_type": "code",
   "execution_count": 3,
   "id": "5797f0b3",
   "metadata": {},
   "outputs": [],
   "source": [
    "benimListeSet=set(benimList)"
   ]
  },
  {
   "cell_type": "code",
   "execution_count": 4,
   "id": "d465286c",
   "metadata": {},
   "outputs": [
    {
     "data": {
      "text/plain": [
       "set"
      ]
     },
     "execution_count": 4,
     "metadata": {},
     "output_type": "execute_result"
    }
   ],
   "source": [
    "type(benimListeSet)"
   ]
  },
  {
   "cell_type": "code",
   "execution_count": 5,
   "id": "d57b16c6",
   "metadata": {},
   "outputs": [
    {
     "data": {
      "text/plain": [
       "{1, 2, 3}"
      ]
     },
     "execution_count": 5,
     "metadata": {},
     "output_type": "execute_result"
    }
   ],
   "source": [
    "benimListeSet"
   ]
  },
  {
   "cell_type": "code",
   "execution_count": 6,
   "id": "7aa57751",
   "metadata": {},
   "outputs": [],
   "source": [
    "benimSet={\"a\",\"b\",\"c\",\"a\"}"
   ]
  },
  {
   "cell_type": "code",
   "execution_count": 7,
   "id": "88debc7f",
   "metadata": {},
   "outputs": [
    {
     "data": {
      "text/plain": [
       "{'a', 'b', 'c'}"
      ]
     },
     "execution_count": 7,
     "metadata": {},
     "output_type": "execute_result"
    }
   ],
   "source": [
    "benimSet"
   ]
  },
  {
   "cell_type": "code",
   "execution_count": 8,
   "id": "7da5acff",
   "metadata": {},
   "outputs": [],
   "source": [
    "bosListe=[]"
   ]
  },
  {
   "cell_type": "code",
   "execution_count": 9,
   "id": "436fc545",
   "metadata": {},
   "outputs": [
    {
     "data": {
      "text/plain": [
       "[]"
      ]
     },
     "execution_count": 9,
     "metadata": {},
     "output_type": "execute_result"
    }
   ],
   "source": [
    "bosListe"
   ]
  },
  {
   "cell_type": "code",
   "execution_count": 10,
   "id": "64cdac9b",
   "metadata": {},
   "outputs": [
    {
     "data": {
      "text/plain": [
       "list"
      ]
     },
     "execution_count": 10,
     "metadata": {},
     "output_type": "execute_result"
    }
   ],
   "source": [
    "type(bosListe)"
   ]
  },
  {
   "cell_type": "code",
   "execution_count": 11,
   "id": "41c02b83",
   "metadata": {},
   "outputs": [],
   "source": [
    "bosSet={}"
   ]
  },
  {
   "cell_type": "code",
   "execution_count": 12,
   "id": "f5b00076",
   "metadata": {},
   "outputs": [
    {
     "data": {
      "text/plain": [
       "dict"
      ]
     },
     "execution_count": 12,
     "metadata": {},
     "output_type": "execute_result"
    }
   ],
   "source": [
    "type(bosSet)"
   ]
  },
  {
   "cell_type": "code",
   "execution_count": 13,
   "id": "6661db6c",
   "metadata": {},
   "outputs": [],
   "source": [
    "bosSozluk={}"
   ]
  },
  {
   "cell_type": "code",
   "execution_count": 14,
   "id": "485c8688",
   "metadata": {},
   "outputs": [],
   "source": [
    "bosSozluk[\"a\"]=100"
   ]
  },
  {
   "cell_type": "code",
   "execution_count": 15,
   "id": "4688e302",
   "metadata": {},
   "outputs": [
    {
     "data": {
      "text/plain": [
       "{'a': 100}"
      ]
     },
     "execution_count": 15,
     "metadata": {},
     "output_type": "execute_result"
    }
   ],
   "source": [
    "bosSozluk"
   ]
  },
  {
   "cell_type": "code",
   "execution_count": 16,
   "id": "44008d12",
   "metadata": {},
   "outputs": [],
   "source": [
    "benimBosSet=set()"
   ]
  },
  {
   "cell_type": "code",
   "execution_count": 17,
   "id": "6c4904ec",
   "metadata": {},
   "outputs": [
    {
     "data": {
      "text/plain": [
       "set"
      ]
     },
     "execution_count": 17,
     "metadata": {},
     "output_type": "execute_result"
    }
   ],
   "source": [
    "type(benimBosSet)"
   ]
  },
  {
   "cell_type": "code",
   "execution_count": 18,
   "id": "f81335b8",
   "metadata": {},
   "outputs": [],
   "source": [
    "benimBosSet.add(23)"
   ]
  },
  {
   "cell_type": "code",
   "execution_count": 19,
   "id": "ca9c9f66",
   "metadata": {},
   "outputs": [],
   "source": [
    "benimBosSet.add(23)"
   ]
  },
  {
   "cell_type": "code",
   "execution_count": 20,
   "id": "af2a579e",
   "metadata": {},
   "outputs": [],
   "source": [
    "benimBosSet.add(23)"
   ]
  },
  {
   "cell_type": "code",
   "execution_count": 21,
   "id": "36590631",
   "metadata": {},
   "outputs": [],
   "source": [
    "benimBosSet.add(23)"
   ]
  },
  {
   "cell_type": "code",
   "execution_count": 22,
   "id": "ca36ae04",
   "metadata": {},
   "outputs": [
    {
     "data": {
      "text/plain": [
       "{23}"
      ]
     },
     "execution_count": 22,
     "metadata": {},
     "output_type": "execute_result"
    }
   ],
   "source": [
    "benimBosSet"
   ]
  },
  {
   "cell_type": "code",
   "execution_count": 25,
   "id": "3a08cfb4",
   "metadata": {},
   "outputs": [],
   "source": [
    "benimBosList= list()"
   ]
  },
  {
   "cell_type": "code",
   "execution_count": 26,
   "id": "a634ef2e",
   "metadata": {},
   "outputs": [],
   "source": [
    "benimBosList.append(9)"
   ]
  },
  {
   "cell_type": "code",
   "execution_count": 27,
   "id": "ed0b1d69",
   "metadata": {},
   "outputs": [],
   "source": [
    "benimBosList.append(19)"
   ]
  },
  {
   "cell_type": "code",
   "execution_count": 28,
   "id": "6ef051b4",
   "metadata": {},
   "outputs": [],
   "source": [
    "benimBosList.append(19)"
   ]
  },
  {
   "cell_type": "code",
   "execution_count": 29,
   "id": "ffb84dcd",
   "metadata": {},
   "outputs": [
    {
     "data": {
      "text/plain": [
       "[9, 19, 19]"
      ]
     },
     "execution_count": 29,
     "metadata": {},
     "output_type": "execute_result"
    }
   ],
   "source": [
    "benimBosList"
   ]
  },
  {
   "cell_type": "code",
   "execution_count": 30,
   "id": "0b45a332",
   "metadata": {},
   "outputs": [],
   "source": [
    "benimBosSoz=dict()"
   ]
  },
  {
   "cell_type": "code",
   "execution_count": 31,
   "id": "6cd055e5",
   "metadata": {},
   "outputs": [],
   "source": [
    "benimBosSoz[\"b\"]=39"
   ]
  },
  {
   "cell_type": "code",
   "execution_count": 32,
   "id": "2274bade",
   "metadata": {},
   "outputs": [
    {
     "data": {
      "text/plain": [
       "{'b': 39}"
      ]
     },
     "execution_count": 32,
     "metadata": {},
     "output_type": "execute_result"
    }
   ],
   "source": [
    "benimBosSoz"
   ]
  },
  {
   "cell_type": "code",
   "execution_count": null,
   "id": "cbdf0a19",
   "metadata": {},
   "outputs": [],
   "source": []
  }
 ],
 "metadata": {
  "kernelspec": {
   "display_name": "Python 3 (ipykernel)",
   "language": "python",
   "name": "python3"
  },
  "language_info": {
   "codemirror_mode": {
    "name": "ipython",
    "version": 3
   },
   "file_extension": ".py",
   "mimetype": "text/x-python",
   "name": "python",
   "nbconvert_exporter": "python",
   "pygments_lexer": "ipython3",
   "version": "3.11.4"
  }
 },
 "nbformat": 4,
 "nbformat_minor": 5
}
