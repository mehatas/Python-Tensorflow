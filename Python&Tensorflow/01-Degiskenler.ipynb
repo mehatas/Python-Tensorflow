{
 "cells": [
  {
   "cell_type": "markdown",
   "id": "51994851",
   "metadata": {},
   "source": [
    "# Python"
   ]
  },
  {
   "cell_type": "code",
   "execution_count": 18,
   "id": "0aedad4a",
   "metadata": {},
   "outputs": [],
   "source": [
    "x=3"
   ]
  },
  {
   "cell_type": "code",
   "execution_count": 19,
   "id": "94f35f6f",
   "metadata": {},
   "outputs": [],
   "source": [
    "y=5"
   ]
  },
  {
   "cell_type": "code",
   "execution_count": 24,
   "id": "830b86ac",
   "metadata": {},
   "outputs": [
    {
     "data": {
      "text/plain": [
       "30"
      ]
     },
     "execution_count": 24,
     "metadata": {},
     "output_type": "execute_result"
    }
   ],
   "source": [
    "x*y"
   ]
  },
  {
   "cell_type": "code",
   "execution_count": 25,
   "id": "3bc6e2b4",
   "metadata": {},
   "outputs": [
    {
     "data": {
      "text/plain": [
       "6"
      ]
     },
     "execution_count": 25,
     "metadata": {},
     "output_type": "execute_result"
    }
   ],
   "source": [
    "x"
   ]
  },
  {
   "cell_type": "code",
   "execution_count": 22,
   "id": "a782ab83",
   "metadata": {},
   "outputs": [],
   "source": [
    "x=6"
   ]
  },
  {
   "cell_type": "code",
   "execution_count": 23,
   "id": "50edc32a",
   "metadata": {},
   "outputs": [
    {
     "data": {
      "text/plain": [
       "30"
      ]
     },
     "execution_count": 23,
     "metadata": {},
     "output_type": "execute_result"
    }
   ],
   "source": [
    "x*y"
   ]
  },
  {
   "cell_type": "code",
   "execution_count": 27,
   "id": "c8fd8110",
   "metadata": {},
   "outputs": [],
   "source": [
    "degisken=12\n",
    "degisken2=13"
   ]
  },
  {
   "cell_type": "code",
   "execution_count": 29,
   "id": "f569920c",
   "metadata": {},
   "outputs": [
    {
     "data": {
      "text/plain": [
       "25"
      ]
     },
     "execution_count": 29,
     "metadata": {},
     "output_type": "execute_result"
    }
   ],
   "source": [
    "degisken+degisken2"
   ]
  },
  {
   "cell_type": "code",
   "execution_count": 30,
   "id": "38656faa",
   "metadata": {},
   "outputs": [
    {
     "data": {
      "text/plain": [
       "int"
      ]
     },
     "execution_count": 30,
     "metadata": {},
     "output_type": "execute_result"
    }
   ],
   "source": [
    "type(degisken)"
   ]
  },
  {
   "cell_type": "code",
   "execution_count": 33,
   "id": "1ad22437",
   "metadata": {},
   "outputs": [],
   "source": [
    "sonuc=degisken/degisken2"
   ]
  },
  {
   "cell_type": "code",
   "execution_count": 35,
   "id": "674ff2a3",
   "metadata": {},
   "outputs": [
    {
     "data": {
      "text/plain": [
       "float"
      ]
     },
     "execution_count": 35,
     "metadata": {},
     "output_type": "execute_result"
    }
   ],
   "source": [
    "type(sonuc)"
   ]
  },
  {
   "cell_type": "code",
   "execution_count": 36,
   "id": "4de7def9",
   "metadata": {},
   "outputs": [],
   "source": [
    "## python int/int -> float."
   ]
  },
  {
   "cell_type": "markdown",
   "id": "5bc6cab3",
   "metadata": {},
   "source": [
    "# Matematiksel İşlemler"
   ]
  },
  {
   "cell_type": "code",
   "execution_count": 38,
   "id": "e3b2a8f6",
   "metadata": {},
   "outputs": [],
   "source": [
    "x=5\n",
    "y=3"
   ]
  },
  {
   "cell_type": "code",
   "execution_count": 39,
   "id": "fe0ebfbd",
   "metadata": {},
   "outputs": [
    {
     "data": {
      "text/plain": [
       "150"
      ]
     },
     "execution_count": 39,
     "metadata": {},
     "output_type": "execute_result"
    }
   ],
   "source": [
    "x*y*10"
   ]
  },
  {
   "cell_type": "code",
   "execution_count": 41,
   "id": "870acc07",
   "metadata": {},
   "outputs": [
    {
     "data": {
      "text/plain": [
       "625"
      ]
     },
     "execution_count": 41,
     "metadata": {},
     "output_type": "execute_result"
    }
   ],
   "source": [
    "## üs alma\n",
    "x**4"
   ]
  },
  {
   "cell_type": "code",
   "execution_count": 43,
   "id": "5dbcfa44",
   "metadata": {},
   "outputs": [
    {
     "data": {
      "text/plain": [
       "1"
      ]
     },
     "execution_count": 43,
     "metadata": {},
     "output_type": "execute_result"
    }
   ],
   "source": [
    "# mod alma - remainder\n",
    "x%2"
   ]
  },
  {
   "cell_type": "code",
   "execution_count": 45,
   "id": "a70b4acb",
   "metadata": {},
   "outputs": [],
   "source": [
    "## camelCase snake_case\n",
    "kullaniciYas=19"
   ]
  },
  {
   "cell_type": "code",
   "execution_count": 49,
   "id": "9887c3c2",
   "metadata": {},
   "outputs": [
    {
     "ename": "TypeError",
     "evalue": "unsupported operand type(s) for /: 'str' and 'int'",
     "output_type": "error",
     "traceback": [
      "\u001b[1;31m---------------------------------------------------------------------------\u001b[0m",
      "\u001b[1;31mTypeError\u001b[0m                                 Traceback (most recent call last)",
      "Cell \u001b[1;32mIn[49], line 1\u001b[0m\n\u001b[1;32m----> 1\u001b[0m kullaniciYas\u001b[38;5;241m*\u001b[39m\u001b[38;5;241m12\u001b[39m\u001b[38;5;241m/\u001b[39m\u001b[38;5;241m2\u001b[39m\n",
      "\u001b[1;31mTypeError\u001b[0m: unsupported operand type(s) for /: 'str' and 'int'"
     ]
    }
   ],
   "source": [
    "kullaniciYas*12/2"
   ]
  },
  {
   "cell_type": "code",
   "execution_count": 48,
   "id": "4150ea6f",
   "metadata": {},
   "outputs": [
    {
     "name": "stdout",
     "output_type": "stream",
     "text": [
      "kullaniciYas: 34\n"
     ]
    }
   ],
   "source": [
    "kullaniciYas=input(\"kullaniciYas: \")"
   ]
  },
  {
   "cell_type": "code",
   "execution_count": 51,
   "id": "0aed02a4",
   "metadata": {},
   "outputs": [
    {
     "data": {
      "text/plain": [
       "'34'"
      ]
     },
     "execution_count": 51,
     "metadata": {},
     "output_type": "execute_result"
    }
   ],
   "source": [
    "kullaniciYas"
   ]
  },
  {
   "cell_type": "code",
   "execution_count": 53,
   "id": "58c7503c",
   "metadata": {},
   "outputs": [
    {
     "data": {
      "text/plain": [
       "str"
      ]
     },
     "execution_count": 53,
     "metadata": {},
     "output_type": "execute_result"
    }
   ],
   "source": [
    "# kullanicidan alinan veri string.\n",
    "type(kullaniciYas)"
   ]
  },
  {
   "cell_type": "code",
   "execution_count": 55,
   "id": "bb7f7b76",
   "metadata": {},
   "outputs": [
    {
     "data": {
      "text/plain": [
       "'34343434'"
      ]
     },
     "execution_count": 55,
     "metadata": {},
     "output_type": "execute_result"
    }
   ],
   "source": [
    "kullaniciYas*4"
   ]
  },
  {
   "cell_type": "markdown",
   "id": "97ea0c11",
   "metadata": {},
   "source": [
    "# string"
   ]
  },
  {
   "cell_type": "code",
   "execution_count": 56,
   "id": "218a3ad6",
   "metadata": {},
   "outputs": [
    {
     "data": {
      "text/plain": [
       "'merhaba'"
      ]
     },
     "execution_count": 56,
     "metadata": {},
     "output_type": "execute_result"
    }
   ],
   "source": [
    "\"merhaba\""
   ]
  },
  {
   "cell_type": "code",
   "execution_count": 59,
   "id": "ddd9bc40",
   "metadata": {},
   "outputs": [],
   "source": [
    "x=19"
   ]
  },
  {
   "cell_type": "code",
   "execution_count": 62,
   "id": "09f4bf6a",
   "metadata": {},
   "outputs": [],
   "source": [
    "x=\"merhaba\""
   ]
  },
  {
   "cell_type": "code",
   "execution_count": 63,
   "id": "f01735c5",
   "metadata": {},
   "outputs": [
    {
     "data": {
      "text/plain": [
       "str"
      ]
     },
     "execution_count": 63,
     "metadata": {},
     "output_type": "execute_result"
    }
   ],
   "source": [
    "type(x)"
   ]
  },
  {
   "cell_type": "code",
   "execution_count": 64,
   "id": "77197a1c",
   "metadata": {},
   "outputs": [],
   "source": [
    "y = 'string'"
   ]
  },
  {
   "cell_type": "code",
   "execution_count": 65,
   "id": "0edde233",
   "metadata": {},
   "outputs": [
    {
     "data": {
      "text/plain": [
       "str"
      ]
     },
     "execution_count": 65,
     "metadata": {},
     "output_type": "execute_result"
    }
   ],
   "source": [
    "type(y)"
   ]
  },
  {
   "cell_type": "code",
   "execution_count": 69,
   "id": "0ad6adee",
   "metadata": {},
   "outputs": [
    {
     "name": "stdout",
     "output_type": "stream",
     "text": [
      "yas:32\n"
     ]
    }
   ],
   "source": [
    "benimInput=input(\"yas:\")"
   ]
  },
  {
   "cell_type": "code",
   "execution_count": 70,
   "id": "36cd66bd",
   "metadata": {},
   "outputs": [],
   "source": [
    "benimInputInt=int(benimInput)"
   ]
  },
  {
   "cell_type": "code",
   "execution_count": 71,
   "id": "d5c8516c",
   "metadata": {},
   "outputs": [
    {
     "data": {
      "text/plain": [
       "416"
      ]
     },
     "execution_count": 71,
     "metadata": {},
     "output_type": "execute_result"
    }
   ],
   "source": [
    "benimInputInt*13"
   ]
  },
  {
   "cell_type": "code",
   "execution_count": 72,
   "id": "1481d42d",
   "metadata": {},
   "outputs": [
    {
     "data": {
      "text/plain": [
       "2"
      ]
     },
     "execution_count": 72,
     "metadata": {},
     "output_type": "execute_result"
    }
   ],
   "source": [
    "len(benimInput)"
   ]
  },
  {
   "cell_type": "code",
   "execution_count": 74,
   "id": "d85301fa",
   "metadata": {},
   "outputs": [
    {
     "name": "stdout",
     "output_type": "stream",
     "text": [
      "merhaba \n",
      "dunya\n"
     ]
    }
   ],
   "source": [
    "print(\"merhaba \\ndunya\")"
   ]
  },
  {
   "cell_type": "code",
   "execution_count": 2,
   "id": "4161998c",
   "metadata": {},
   "outputs": [],
   "source": [
    "isimString=\"mehmet atas\""
   ]
  },
  {
   "cell_type": "code",
   "execution_count": 3,
   "id": "e7e1250b",
   "metadata": {},
   "outputs": [
    {
     "data": {
      "text/plain": [
       "'mehmet atas'"
      ]
     },
     "execution_count": 3,
     "metadata": {},
     "output_type": "execute_result"
    }
   ],
   "source": [
    "isimString"
   ]
  },
  {
   "cell_type": "markdown",
   "id": "ae048ed1",
   "metadata": {},
   "source": [
    "# Index"
   ]
  },
  {
   "cell_type": "code",
   "execution_count": 5,
   "id": "14c6fde3",
   "metadata": {},
   "outputs": [
    {
     "data": {
      "text/plain": [
       "'m'"
      ]
     },
     "execution_count": 5,
     "metadata": {},
     "output_type": "execute_result"
    }
   ],
   "source": [
    "isimString[0]"
   ]
  },
  {
   "cell_type": "code",
   "execution_count": 11,
   "id": "3b411cf7",
   "metadata": {},
   "outputs": [
    {
     "data": {
      "text/plain": [
       "'s'"
      ]
     },
     "execution_count": 11,
     "metadata": {},
     "output_type": "execute_result"
    }
   ],
   "source": [
    "## son karakteri almak için -1 indexi kullanilabilir.\n",
    "isimString[-1]"
   ]
  },
  {
   "cell_type": "code",
   "execution_count": 12,
   "id": "ae986813",
   "metadata": {},
   "outputs": [
    {
     "data": {
      "text/plain": [
       "'ms'"
      ]
     },
     "execution_count": 12,
     "metadata": {},
     "output_type": "execute_result"
    }
   ],
   "source": [
    "isimString[0]+isimString[-1]"
   ]
  },
  {
   "cell_type": "markdown",
   "id": "ea7141d8",
   "metadata": {},
   "source": [
    "# Slicing"
   ]
  },
  {
   "cell_type": "code",
   "execution_count": 13,
   "id": "6a0e75d4",
   "metadata": {},
   "outputs": [],
   "source": [
    "yeniString=\"0123456789\""
   ]
  },
  {
   "cell_type": "code",
   "execution_count": 17,
   "id": "9cae4940",
   "metadata": {},
   "outputs": [
    {
     "data": {
      "text/plain": [
       "'23456789'"
      ]
     },
     "execution_count": 17,
     "metadata": {},
     "output_type": "execute_result"
    }
   ],
   "source": [
    "##ilk iki indexi almaz.\n",
    "yeniString[2:]"
   ]
  },
  {
   "cell_type": "code",
   "execution_count": 18,
   "id": "86d74309",
   "metadata": {},
   "outputs": [],
   "source": [
    "harfString=\"asdfghjk\""
   ]
  },
  {
   "cell_type": "code",
   "execution_count": 28,
   "id": "2fa44482",
   "metadata": {},
   "outputs": [
    {
     "data": {
      "text/plain": [
       "'fghjk'"
      ]
     },
     "execution_count": 28,
     "metadata": {},
     "output_type": "execute_result"
    }
   ],
   "source": [
    "# a:b a-> baslangic index b-> bitis index\n",
    "harfString[3:]"
   ]
  },
  {
   "cell_type": "code",
   "execution_count": 22,
   "id": "2b105dc2",
   "metadata": {},
   "outputs": [
    {
     "data": {
      "text/plain": [
       "'asd'"
      ]
     },
     "execution_count": 22,
     "metadata": {},
     "output_type": "execute_result"
    }
   ],
   "source": [
    "## ilk 3 indexteki verileri getirir.0 1 2 \n",
    "harfString[:3]"
   ]
  },
  {
   "cell_type": "code",
   "execution_count": 23,
   "id": "4f7a98b2",
   "metadata": {},
   "outputs": [],
   "source": [
    "gelenVeri=\"ahmetinyasi67\""
   ]
  },
  {
   "cell_type": "code",
   "execution_count": 24,
   "id": "28affec9",
   "metadata": {},
   "outputs": [
    {
     "data": {
      "text/plain": [
       "'67'"
      ]
     },
     "execution_count": 24,
     "metadata": {},
     "output_type": "execute_result"
    }
   ],
   "source": [
    "gelenVeri[-2:]"
   ]
  },
  {
   "cell_type": "code",
   "execution_count": 25,
   "id": "6219bfa7",
   "metadata": {},
   "outputs": [
    {
     "data": {
      "text/plain": [
       "'ahmetinyasi'"
      ]
     },
     "execution_count": 25,
     "metadata": {},
     "output_type": "execute_result"
    }
   ],
   "source": [
    "gelenVeri[:-2]"
   ]
  },
  {
   "cell_type": "code",
   "execution_count": 27,
   "id": "d66a9e10",
   "metadata": {},
   "outputs": [
    {
     "data": {
      "text/plain": [
       "'me'"
      ]
     },
     "execution_count": 27,
     "metadata": {},
     "output_type": "execute_result"
    }
   ],
   "source": [
    "## ortak kümesi alınır veya 2. indexten basla 4. indexe kadar al\n",
    "gelenVeri[2:4]"
   ]
  },
  {
   "cell_type": "code",
   "execution_count": 30,
   "id": "ffc9083b",
   "metadata": {},
   "outputs": [],
   "source": [
    "# Step size"
   ]
  },
  {
   "cell_type": "code",
   "execution_count": 33,
   "id": "0936f150",
   "metadata": {},
   "outputs": [
    {
     "data": {
      "text/plain": [
       "'mt'"
      ]
     },
     "execution_count": 33,
     "metadata": {},
     "output_type": "execute_result"
    }
   ],
   "source": [
    "gelenVeri[2:5:2]"
   ]
  },
  {
   "cell_type": "code",
   "execution_count": 34,
   "id": "4ce3103e",
   "metadata": {},
   "outputs": [
    {
     "data": {
      "text/plain": [
       "'76isaynitemha'"
      ]
     },
     "execution_count": 34,
     "metadata": {},
     "output_type": "execute_result"
    }
   ],
   "source": [
    "gelenVeri[::-1]"
   ]
  },
  {
   "cell_type": "code",
   "execution_count": 35,
   "id": "1e042ad5",
   "metadata": {},
   "outputs": [],
   "source": [
    "benimAdim=\"mehmet\""
   ]
  },
  {
   "cell_type": "code",
   "execution_count": 41,
   "id": "0590b0b3",
   "metadata": {},
   "outputs": [],
   "source": [
    "#ilk index buyuk harf yapılır\n",
    "benimAdim=benimAdim.capitalize()"
   ]
  },
  {
   "cell_type": "code",
   "execution_count": 39,
   "id": "f0ad11ea",
   "metadata": {},
   "outputs": [
    {
     "data": {
      "text/plain": [
       "'Mehmet'"
      ]
     },
     "execution_count": 39,
     "metadata": {},
     "output_type": "execute_result"
    }
   ],
   "source": [
    "benimAdim"
   ]
  },
  {
   "cell_type": "code",
   "execution_count": 43,
   "id": "7e2e0269",
   "metadata": {},
   "outputs": [],
   "source": [
    "benimTamadim=\"mehmet atas\""
   ]
  },
  {
   "cell_type": "code",
   "execution_count": 50,
   "id": "f7fc934a",
   "metadata": {},
   "outputs": [
    {
     "data": {
      "text/plain": [
       "['mehmet', 'atas']"
      ]
     },
     "execution_count": 50,
     "metadata": {},
     "output_type": "execute_result"
    }
   ],
   "source": [
    "benimTamadim.split()"
   ]
  },
  {
   "cell_type": "code",
   "execution_count": 47,
   "id": "4b2ce1c0",
   "metadata": {},
   "outputs": [
    {
     "data": {
      "text/plain": [
       "list"
      ]
     },
     "execution_count": 47,
     "metadata": {},
     "output_type": "execute_result"
    }
   ],
   "source": [
    "type(benimTamadim.split())"
   ]
  },
  {
   "cell_type": "code",
   "execution_count": 51,
   "id": "7dde006d",
   "metadata": {},
   "outputs": [
    {
     "data": {
      "text/plain": [
       "'MEHMET ATAS'"
      ]
     },
     "execution_count": 51,
     "metadata": {},
     "output_type": "execute_result"
    }
   ],
   "source": [
    "benimTamadim.upper()"
   ]
  },
  {
   "cell_type": "code",
   "execution_count": 52,
   "id": "74f9a8b7",
   "metadata": {},
   "outputs": [
    {
     "data": {
      "text/plain": [
       "'MehmetMehmetMehmetMehmetMehmetMehmetMehmetMehmetMehmetMehmetMehmetMehmetMehmetMehmetMehmetMehmetMehmetMehmetMehmet'"
      ]
     },
     "execution_count": 52,
     "metadata": {},
     "output_type": "execute_result"
    }
   ],
   "source": [
    "benimAdim*19"
   ]
  },
  {
   "cell_type": "code",
   "execution_count": 53,
   "id": "bb168fdf",
   "metadata": {},
   "outputs": [],
   "source": [
    "benimsoy=\"atas\""
   ]
  },
  {
   "cell_type": "code",
   "execution_count": 54,
   "id": "04bfbb5c",
   "metadata": {},
   "outputs": [
    {
     "data": {
      "text/plain": [
       "'Mehmet atas'"
      ]
     },
     "execution_count": 54,
     "metadata": {},
     "output_type": "execute_result"
    }
   ],
   "source": [
    "benimAdim+\" \"+benimsoy"
   ]
  },
  {
   "cell_type": "code",
   "execution_count": null,
   "id": "385ed88f",
   "metadata": {},
   "outputs": [],
   "source": []
  }
 ],
 "metadata": {
  "kernelspec": {
   "display_name": "Python 3 (ipykernel)",
   "language": "python",
   "name": "python3"
  },
  "language_info": {
   "codemirror_mode": {
    "name": "ipython",
    "version": 3
   },
   "file_extension": ".py",
   "mimetype": "text/x-python",
   "name": "python",
   "nbconvert_exporter": "python",
   "pygments_lexer": "ipython3",
   "version": "3.11.4"
  }
 },
 "nbformat": 4,
 "nbformat_minor": 5
}
