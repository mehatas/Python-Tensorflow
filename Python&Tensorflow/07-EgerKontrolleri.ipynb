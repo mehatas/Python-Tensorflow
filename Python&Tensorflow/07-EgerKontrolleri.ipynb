{
 "cells": [
  {
   "cell_type": "code",
   "execution_count": 7,
   "id": "b25908fd",
   "metadata": {},
   "outputs": [
    {
     "name": "stdout",
     "output_type": "stream",
     "text": [
      "merhaba\n",
      "merhaba1\n"
     ]
    }
   ],
   "source": [
    "if 3 < 7:\n",
    "    print(\"merhaba\")\n",
    "    print(\"merhaba1\")\n",
    "else:\n",
    "    print(\"dunya\")"
   ]
  },
  {
   "cell_type": "code",
   "execution_count": 15,
   "id": "5773a9dd",
   "metadata": {},
   "outputs": [],
   "source": [
    "x = 10\n",
    "y = 10"
   ]
  },
  {
   "cell_type": "code",
   "execution_count": 16,
   "id": "b425cf33",
   "metadata": {},
   "outputs": [
    {
     "name": "stdout",
     "output_type": "stream",
     "text": [
      "x ve y eşittir.\n"
     ]
    }
   ],
   "source": [
    "if x<y:\n",
    "    print(\"x y'den kucuktur.\")\n",
    "elif x==y:\n",
    "    print(\"x ve y eşittir.\")\n",
    "else:\n",
    "    print(\"x y' den buyuktur.\")"
   ]
  },
  {
   "cell_type": "code",
   "execution_count": 37,
   "id": "8e4c6a12",
   "metadata": {},
   "outputs": [
    {
     "name": "stdout",
     "output_type": "stream",
     "text": [
      "super kahraman gir: Batman\n"
     ]
    }
   ],
   "source": [
    "superKah=input(\"super kahraman gir: \")"
   ]
  },
  {
   "cell_type": "code",
   "execution_count": 38,
   "id": "fd9b428e",
   "metadata": {},
   "outputs": [
    {
     "name": "stdout",
     "output_type": "stream",
     "text": [
      "Batman'i seçtiniz.\n"
     ]
    }
   ],
   "source": [
    "if superKah==\"Batman\":\n",
    "    print(\"Batman'i seçtiniz.\")\n",
    "elif superKah==\"IronMan\":\n",
    "    print(\"IronMan'i seçtiniz.\")\n",
    "else:\n",
    "    print(\"bu kim la\")"
   ]
  },
  {
   "cell_type": "code",
   "execution_count": 23,
   "id": "f407abd0",
   "metadata": {},
   "outputs": [],
   "source": [
    "karakterCanli=True"
   ]
  },
  {
   "cell_type": "code",
   "execution_count": 24,
   "id": "daa9742f",
   "metadata": {},
   "outputs": [
    {
     "name": "stdout",
     "output_type": "stream",
     "text": [
      "yasiyor\n"
     ]
    }
   ],
   "source": [
    "if karakterCanli:\n",
    "    print(\"yasiyor\")\n",
    "else:\n",
    "    print(\"yasamiyor\")"
   ]
  },
  {
   "cell_type": "code",
   "execution_count": 25,
   "id": "cdf66d4c",
   "metadata": {},
   "outputs": [],
   "source": [
    "benimStr=\"atas\""
   ]
  },
  {
   "cell_type": "code",
   "execution_count": 28,
   "id": "b4d0df8a",
   "metadata": {},
   "outputs": [
    {
     "name": "stdout",
     "output_type": "stream",
     "text": [
      "var\n"
     ]
    }
   ],
   "source": [
    "if \"atas\" in benimStr:\n",
    "    print(\"var\")\n",
    "else:\n",
    "    print(\"yok\")"
   ]
  },
  {
   "cell_type": "code",
   "execution_count": 29,
   "id": "002ed2eb",
   "metadata": {},
   "outputs": [],
   "source": [
    "benimList=[10,20,40,60]"
   ]
  },
  {
   "cell_type": "code",
   "execution_count": 30,
   "id": "79c9b5a2",
   "metadata": {},
   "outputs": [
    {
     "name": "stdout",
     "output_type": "stream",
     "text": [
      "var\n"
     ]
    }
   ],
   "source": [
    "if 60 in benimList:\n",
    "    print(\"var\")"
   ]
  },
  {
   "cell_type": "code",
   "execution_count": 32,
   "id": "c4bd6bf6",
   "metadata": {},
   "outputs": [],
   "source": [
    "benimSozluk={\"muz\":100, \"elma\":130}"
   ]
  },
  {
   "cell_type": "code",
   "execution_count": 33,
   "id": "72c20a51",
   "metadata": {},
   "outputs": [
    {
     "data": {
      "text/plain": [
       "dict_keys(['muz', 'elma'])"
      ]
     },
     "execution_count": 33,
     "metadata": {},
     "output_type": "execute_result"
    }
   ],
   "source": [
    "benimSozluk.keys()"
   ]
  },
  {
   "cell_type": "code",
   "execution_count": 36,
   "id": "c40d1918",
   "metadata": {},
   "outputs": [
    {
     "name": "stdout",
     "output_type": "stream",
     "text": [
      "var\n"
     ]
    }
   ],
   "source": [
    "if \"muz\" in benimSozluk.keys():\n",
    "    print(\"var\")"
   ]
  },
  {
   "cell_type": "code",
   "execution_count": 44,
   "id": "9db78cab",
   "metadata": {},
   "outputs": [
    {
     "name": "stdout",
     "output_type": "stream",
     "text": [
      "evet\n"
     ]
    }
   ],
   "source": [
    "if 130 in benimSozluk.values():\n",
    "    print(\"evet\")"
   ]
  },
  {
   "cell_type": "code",
   "execution_count": null,
   "id": "94c7d459",
   "metadata": {},
   "outputs": [],
   "source": []
  }
 ],
 "metadata": {
  "kernelspec": {
   "display_name": "Python 3 (ipykernel)",
   "language": "python",
   "name": "python3"
  },
  "language_info": {
   "codemirror_mode": {
    "name": "ipython",
    "version": 3
   },
   "file_extension": ".py",
   "mimetype": "text/x-python",
   "name": "python",
   "nbconvert_exporter": "python",
   "pygments_lexer": "ipython3",
   "version": "3.11.4"
  }
 },
 "nbformat": 4,
 "nbformat_minor": 5
}
